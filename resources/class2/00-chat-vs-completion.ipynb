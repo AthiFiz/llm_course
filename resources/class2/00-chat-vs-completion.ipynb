{
 "cells": [
  {
   "cell_type": "markdown",
   "metadata": {},
   "source": [
    "# Do you know the main types of bots that we can create using LLMs ?"
   ]
  },
  {
   "cell_type": "markdown",
   "metadata": {},
   "source": [
    "## Chat vs Completion Model"
   ]
  },
  {
   "cell_type": "markdown",
   "metadata": {},
   "source": [
    "\n",
    "\n",
    "### In the context of OpenAI's GPT-3.5 architecture \"\"chat\" and \"completion\" refer to two different ways of interacting with the model, and they serve different purposes:\n",
    "\n",
    "1. **Chat Model:**\n",
    "   - The \"chat\" format is designed for multi-turn conversations or dialogues.\n",
    "   - It is typically used when you want to have back-and-forth interactions with the model.\n",
    "   - You provide a series of messages as input, where each message has a role (\"system,\" \"user,\" or \"assistant\") and content (the text of the message). The conversation usually starts with a system message to set the context, followed by alternating user and assistant messages.\n",
    "   - The model processes the entire conversation history to generate a response, taking into account the context provided in previous messages.\n",
    "   - Chat models are useful for creating chatbots, virtual assistants, or simulating conversation with a knowledgeable entity.\n",
    "   \n",
    "\n",
    "2. **Completion Model:**\n",
    "   - The \"completion\" format is designed for single-turn tasks or generating text based on a prompt.\n",
    "   - It is typically used for tasks like language translation, text summarization, text generation, and more.\n",
    "   - You provide a single prompt as input, and the model generates a completion or response based on that prompt.\n",
    "   - Completion models are useful for generating text that doesn't require ongoing interaction or conversation context."
   ]
  }
 ],
 "metadata": {
  "language_info": {
   "name": "python"
  }
 },
 "nbformat": 4,
 "nbformat_minor": 2
}
