{
 "cells": [
  {
   "cell_type": "markdown",
   "metadata": {},
   "source": [
    "# Chat Bot using only OpenAI\n",
    "\n",
    "## There are 2 types of Chat Bots same as Q/A Bots:\n",
    "1. Retrieval based\n",
    "2. Generative "
   ]
  },
  {
   "cell_type": "markdown",
   "metadata": {},
   "source": [
    "## Retrieval based:\n",
    "- Use a specific context to answer for user query\n",
    "- Examples </br>\n",
    "     - `Sentiment Analysis` </br>\n",
    "     - `Machine Translation` </br>\n",
    "     - `Text Summarization`"
   ]
  },
  {
   "cell_type": "code",
   "execution_count": 3,
   "metadata": {},
   "outputs": [],
   "source": [
    "import os, yaml \n",
    "from openai import OpenAI, ChatCompletion"
   ]
  },
  {
   "cell_type": "code",
   "execution_count": 4,
   "metadata": {},
   "outputs": [],
   "source": [
    "with open('cadentials.yaml') as f:\n",
    "    cadentials = yaml.load(f, Loader=yaml.FullLoader)\n",
    "\n",
    "os.environ['OPENAI_API_KEY'] = cadentials['OPENAI_API_KEY']"
   ]
  },
  {
   "cell_type": "code",
   "execution_count": 5,
   "metadata": {},
   "outputs": [],
   "source": [
    "client = OpenAI()"
   ]
  },
  {
   "cell_type": "code",
   "execution_count": 20,
   "metadata": {},
   "outputs": [],
   "source": [
    "def chat_model(\n",
    "            USER_MESSAGE,\n",
    "            CHAT_HISTORY=None\n",
    "            ):\n",
    "    if CHAT_HISTORY is None:\n",
    "        CHAT_HISTORY = [\n",
    "                        {\"role\": \"system\", \"content\" : \"You are a assistant who capable of classifying provided context to either positive, negative or neutral\"},\n",
    "                        {\"role\": \"user\", \"content\": f\"{USER_MESSAGE}\"}              \n",
    "                        ]\n",
    "    else:\n",
    "        CHAT_HISTORY.append({\n",
    "                            \"role\": \"user\", \n",
    "                            \"content\": f\"{USER_MESSAGE}\"\n",
    "                            })\n",
    "        \n",
    "    response = client.chat.completions.create(\n",
    "                                            model = 'gpt-3.5-turbo',\n",
    "                                            messages = CHAT_HISTORY,\n",
    "                                            temperature=0.5,\n",
    "                                            max_tokens=500\n",
    "                                            )\n",
    "    response = str(response.choices[0].message.content)\n",
    "\n",
    "    CHAT_HISTORY.append({\n",
    "                        \"role\": \"system\", \n",
    "                        \"content\": response\n",
    "                        })\n",
    "    \n",
    "    return response, CHAT_HISTORY"
   ]
  },
  {
   "cell_type": "markdown",
   "metadata": {},
   "source": [
    "#### Sentiment Analysis"
   ]
  },
  {
   "cell_type": "code",
   "execution_count": 41,
   "metadata": {},
   "outputs": [],
   "source": [
    "prompt = \"\"\"\n",
    "Classify the following CONTEXT as either positive, negative or neutral.\n",
    "CONTEXT : I am so sad because of I'm learning LLM\n",
    "SENTIMENT :\n",
    "\"\"\"\n",
    "response, chat_history = chat_model(prompt)"
   ]
  },
  {
   "cell_type": "code",
   "execution_count": 42,
   "metadata": {},
   "outputs": [
    {
     "data": {
      "text/plain": [
       "'Negative'"
      ]
     },
     "execution_count": 42,
     "metadata": {},
     "output_type": "execute_result"
    }
   ],
   "source": [
    "response"
   ]
  },
  {
   "cell_type": "code",
   "execution_count": 43,
   "metadata": {},
   "outputs": [
    {
     "data": {
      "text/plain": [
       "[{'role': 'system',\n",
       "  'content': 'You are a assistant who capable of classifying provided context to either positive, negative or neutral'},\n",
       " {'role': 'user',\n",
       "  'content': \"\\nClassify the following CONTEXT as either positive, negative or neutral.\\nCONTEXT : I am so sad because of I'm learning LLM\\nSENTIMENT :\\n\"},\n",
       " {'role': 'system', 'content': 'Negative'}]"
      ]
     },
     "execution_count": 43,
     "metadata": {},
     "output_type": "execute_result"
    }
   ],
   "source": [
    "chat_history"
   ]
  },
  {
   "cell_type": "code",
   "execution_count": 44,
   "metadata": {},
   "outputs": [],
   "source": [
    "response, chat_history = chat_model(\n",
    "                                    \"What are the key words you identified as Negative in the CONTEXT ?\",\n",
    "                                    CHAT_HISTORY=chat_history\n",
    "                                    )"
   ]
  },
  {
   "cell_type": "code",
   "execution_count": 45,
   "metadata": {},
   "outputs": [
    {
     "data": {
      "text/plain": [
       "'The key words identified as negative in the context are \"sad\" and \"learning LLM\".'"
      ]
     },
     "execution_count": 45,
     "metadata": {},
     "output_type": "execute_result"
    }
   ],
   "source": [
    "response"
   ]
  },
  {
   "cell_type": "code",
   "execution_count": 46,
   "metadata": {},
   "outputs": [
    {
     "data": {
      "text/plain": [
       "[{'role': 'system',\n",
       "  'content': 'You are a assistant who capable of classifying provided context to either positive, negative or neutral'},\n",
       " {'role': 'user',\n",
       "  'content': \"\\nClassify the following CONTEXT as either positive, negative or neutral.\\nCONTEXT : I am so sad because of I'm learning LLM\\nSENTIMENT :\\n\"},\n",
       " {'role': 'system', 'content': 'Negative'},\n",
       " {'role': 'user',\n",
       "  'content': 'What are the key words you identified as Negative in the CONTEXT ?'},\n",
       " {'role': 'system',\n",
       "  'content': 'The key words identified as negative in the context are \"sad\" and \"learning LLM\".'}]"
      ]
     },
     "execution_count": 46,
     "metadata": {},
     "output_type": "execute_result"
    }
   ],
   "source": [
    "chat_history"
   ]
  },
  {
   "cell_type": "markdown",
   "metadata": {},
   "source": [
    "#### Machine Translation"
   ]
  },
  {
   "cell_type": "code",
   "execution_count": 50,
   "metadata": {},
   "outputs": [],
   "source": [
    "prompt = \"\"\"\n",
    "Convert the following CONTEXT into spanish language \n",
    "ENGLISH CONTEXT : I am so sad because of I'm learning LLM\n",
    "SPANISH CONTEXT :\n",
    "\"\"\"\n",
    "response, chat_history = chat_model(prompt)"
   ]
  },
  {
   "cell_type": "code",
   "execution_count": 51,
   "metadata": {},
   "outputs": [
    {
     "data": {
      "text/plain": [
       "('Estoy tan triste porque estoy aprendiendo LLM.',\n",
       " [{'role': 'system',\n",
       "   'content': 'You are a assistant who capable of classifying provided context to either positive, negative or neutral'},\n",
       "  {'role': 'user',\n",
       "   'content': \"\\nConvert the following CONTEXT into spanish language \\nENGLISH CONTEXT : I am so sad because of I'm learning LLM\\nSPANISH CONTEXT :\\n\"},\n",
       "  {'role': 'system',\n",
       "   'content': 'Estoy tan triste porque estoy aprendiendo LLM.'}])"
      ]
     },
     "execution_count": 51,
     "metadata": {},
     "output_type": "execute_result"
    }
   ],
   "source": [
    "response, chat_history"
   ]
  },
  {
   "cell_type": "code",
   "execution_count": 52,
   "metadata": {},
   "outputs": [],
   "source": [
    "response, chat_history = chat_model(\"What is the meaning of spanish word `aprendiendo`\", CHAT_HISTORY=chat_history)"
   ]
  },
  {
   "cell_type": "code",
   "execution_count": 53,
   "metadata": {},
   "outputs": [
    {
     "data": {
      "text/plain": [
       "('The Spanish word \"aprendiendo\" means \"learning\" in English.',\n",
       " [{'role': 'system',\n",
       "   'content': 'You are a assistant who capable of classifying provided context to either positive, negative or neutral'},\n",
       "  {'role': 'user',\n",
       "   'content': \"\\nConvert the following CONTEXT into spanish language \\nENGLISH CONTEXT : I am so sad because of I'm learning LLM\\nSPANISH CONTEXT :\\n\"},\n",
       "  {'role': 'system',\n",
       "   'content': 'Estoy tan triste porque estoy aprendiendo LLM.'},\n",
       "  {'role': 'user',\n",
       "   'content': 'What is the meaning of spanish word `aprendiendo`'},\n",
       "  {'role': 'system',\n",
       "   'content': 'The Spanish word \"aprendiendo\" means \"learning\" in English.'}])"
      ]
     },
     "execution_count": 53,
     "metadata": {},
     "output_type": "execute_result"
    }
   ],
   "source": [
    "response, chat_history"
   ]
  },
  {
   "cell_type": "markdown",
   "metadata": {},
   "source": [
    "#### Summarization"
   ]
  },
  {
   "cell_type": "markdown",
   "metadata": {},
   "source": [
    "## Generative:\n",
    "- Nothing fancy but generate an answer based on the user query"
   ]
  },
  {
   "cell_type": "code",
   "execution_count": 54,
   "metadata": {},
   "outputs": [],
   "source": [
    "response, chat_history = chat_model(\"What is france famous for ?\")"
   ]
  },
  {
   "cell_type": "code",
   "execution_count": 55,
   "metadata": {},
   "outputs": [
    {
     "data": {
      "text/plain": [
       "('France is famous for its rich history, art, culture, cuisine, fashion, and architecture. It is known for iconic landmarks such as the Eiffel Tower, Louvre Museum, Notre-Dame Cathedral, and Palace of Versailles. France is also renowned for its wine production, cheese, pastries, and gourmet cuisine. Additionally, it is recognized for its contributions to literature, philosophy, and cinema.',\n",
       " [{'role': 'system',\n",
       "   'content': 'You are a assistant who capable of classifying provided context to either positive, negative or neutral'},\n",
       "  {'role': 'user', 'content': 'What is france famous for ?'},\n",
       "  {'role': 'system',\n",
       "   'content': 'France is famous for its rich history, art, culture, cuisine, fashion, and architecture. It is known for iconic landmarks such as the Eiffel Tower, Louvre Museum, Notre-Dame Cathedral, and Palace of Versailles. France is also renowned for its wine production, cheese, pastries, and gourmet cuisine. Additionally, it is recognized for its contributions to literature, philosophy, and cinema.'}])"
      ]
     },
     "execution_count": 55,
     "metadata": {},
     "output_type": "execute_result"
    }
   ],
   "source": [
    "response, chat_history"
   ]
  },
  {
   "cell_type": "code",
   "execution_count": 57,
   "metadata": {},
   "outputs": [],
   "source": [
    "response, chat_history = chat_model(\"What is it's rich history ?\", CHAT_HISTORY=chat_history)"
   ]
  },
  {
   "cell_type": "code",
   "execution_count": 58,
   "metadata": {},
   "outputs": [
    {
     "data": {
      "text/plain": [
       "(\"France has a rich and diverse history that spans thousands of years. It was inhabited by Celtic tribes before being conquered by the Romans in the 1st century BC. The fall of the Roman Empire led to the rise of the Frankish Kingdom, which eventually evolved into the Carolingian Empire under Charlemagne.\\n\\nDuring the Middle Ages, France saw the emergence of feudalism and the development of powerful feudal states. The Hundred Years' War between France and England in the 14th and 15th centuries greatly shaped the country's history. Joan of Arc, a young French heroine, played a significant role in the French victory.\\n\\nThe Renaissance brought cultural and artistic flourishing to France, with notable figures such as Leonardo da Vinci and François Rabelais leaving their mark. The French Revolution in the late 18th century marked a turning point in French history, leading to the end of the monarchy and the rise of republicanism.\\n\\nIn the 19th century, France experienced industrialization, territorial expansion, and colonialism. It played a significant role in European politics and was involved in major conflicts such as the Napoleonic Wars and World War I.\\n\\nDuring World War II, France was occupied by Nazi Germany, but it later played a crucial role in the Allied victory. France went on to become a founding member of the European Union and has been an influential player in global politics and diplomacy.\\n\\nOverall, France's rich history is characterized by a blend of cultural, political, and social developments that have shaped the country into what it is today.\",\n",
       " [{'role': 'system',\n",
       "   'content': 'You are a assistant who capable of classifying provided context to either positive, negative or neutral'},\n",
       "  {'role': 'user', 'content': 'What is france famous for ?'},\n",
       "  {'role': 'system',\n",
       "   'content': 'France is famous for its rich history, art, culture, cuisine, fashion, and architecture. It is known for iconic landmarks such as the Eiffel Tower, Louvre Museum, Notre-Dame Cathedral, and Palace of Versailles. France is also renowned for its wine production, cheese, pastries, and gourmet cuisine. Additionally, it is recognized for its contributions to literature, philosophy, and cinema.'},\n",
       "  {'role': 'user', 'content': \"What is it's rich history ?\"},\n",
       "  {'role': 'system',\n",
       "   'content': \"France has a rich and diverse history that spans thousands of years. It was inhabited by Celtic tribes before being conquered by the Romans in the 1st century BC. The fall of the Roman Empire led to the rise of the Frankish Kingdom, which eventually evolved into the Carolingian Empire under Charlemagne.\\n\\nDuring the Middle Ages, France saw the emergence of feudalism and the development of powerful feudal states. The Hundred Years' War between France and England in the 14th and 15th centuries greatly shaped the country's history. Joan of Arc, a young French heroine, played a significant role in the French victory.\\n\\nThe Renaissance brought cultural and artistic flourishing to France, with notable figures such as Leonardo da Vinci and François Rabelais leaving their mark. The French Revolution in the late 18th century marked a turning point in French history, leading to the end of the monarchy and the rise of republicanism.\\n\\nIn the 19th century, France experienced industrialization, territorial expansion, and colonialism. It played a significant role in European politics and was involved in major conflicts such as the Napoleonic Wars and World War I.\\n\\nDuring World War II, France was occupied by Nazi Germany, but it later played a crucial role in the Allied victory. France went on to become a founding member of the European Union and has been an influential player in global politics and diplomacy.\\n\\nOverall, France's rich history is characterized by a blend of cultural, political, and social developments that have shaped the country into what it is today.\"}])"
      ]
     },
     "execution_count": 58,
     "metadata": {},
     "output_type": "execute_result"
    }
   ],
   "source": [
    "response, chat_history"
   ]
  },
  {
   "cell_type": "code",
   "execution_count": 59,
   "metadata": {},
   "outputs": [
    {
     "name": "stdout",
     "output_type": "stream",
     "text": [
      "France has a rich and diverse history that spans thousands of years. It was inhabited by Celtic tribes before being conquered by the Romans in the 1st century BC. The fall of the Roman Empire led to the rise of the Frankish Kingdom, which eventually evolved into the Carolingian Empire under Charlemagne.\n",
      "\n",
      "During the Middle Ages, France saw the emergence of feudalism and the development of powerful feudal states. The Hundred Years' War between France and England in the 14th and 15th centuries greatly shaped the country's history. Joan of Arc, a young French heroine, played a significant role in the French victory.\n",
      "\n",
      "The Renaissance brought cultural and artistic flourishing to France, with notable figures such as Leonardo da Vinci and François Rabelais leaving their mark. The French Revolution in the late 18th century marked a turning point in French history, leading to the end of the monarchy and the rise of republicanism.\n",
      "\n",
      "In the 19th century, France experienced industrialization, territorial expansion, and colonialism. It played a significant role in European politics and was involved in major conflicts such as the Napoleonic Wars and World War I.\n",
      "\n",
      "During World War II, France was occupied by Nazi Germany, but it later played a crucial role in the Allied victory. France went on to become a founding member of the European Union and has been an influential player in global politics and diplomacy.\n",
      "\n",
      "Overall, France's rich history is characterized by a blend of cultural, political, and social developments that have shaped the country into what it is today.\n"
     ]
    }
   ],
   "source": [
    "print(response)"
   ]
  }
 ],
 "metadata": {
  "kernelspec": {
   "display_name": "Python 3",
   "language": "python",
   "name": "python3"
  },
  "language_info": {
   "codemirror_mode": {
    "name": "ipython",
    "version": 3
   },
   "file_extension": ".py",
   "mimetype": "text/x-python",
   "name": "python",
   "nbconvert_exporter": "python",
   "pygments_lexer": "ipython3",
   "version": "3.9.18"
  }
 },
 "nbformat": 4,
 "nbformat_minor": 2
}
