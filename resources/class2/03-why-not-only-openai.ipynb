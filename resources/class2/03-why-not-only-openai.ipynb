{
 "cells": [
  {
   "cell_type": "markdown",
   "metadata": {},
   "source": [
    "# Let's Try a Sample Task\n",
    "1. Extracting Facts from Given Context \n",
    "2. Writing a Short Paragraph from the Extracted Facts\n",
    "3. Convert the Short Paragraph in to Spanish Language from English Language"
   ]
  },
  {
   "cell_type": "code",
   "execution_count": 1,
   "metadata": {},
   "outputs": [],
   "source": [
    "article = '''\n",
    "            Coinbase, the second-largest crypto exchange by trading volume, released its Q4 2022 earnings on Tuesday, \n",
    "            giving shareholders and market players alike an updated look into its financials. In response to the report, \n",
    "            the company's shares are down modestly in early after-hours trading.In the fourth quarter of 2022, Coinbase \n",
    "            generated $605 million in total revenue, down sharply from $2.49 billion in the year-ago quarter. Coinbase's \n",
    "            top line was not enough to cover its expenses: The company lost $557 million in the three-month period on a \n",
    "            GAAP basis (net income) worth -$2.46 per share, and an adjusted EBITDA deficit of $124 million.Wall Street \n",
    "            expected Coinbase to report $581.2 million in revenue and earnings per share of -$2.44 with adjusted EBITDA \n",
    "            of -$201.8 million driven by 8.4 million monthly transaction users (MTUs), according to data provided by \n",
    "            Yahoo Finance.Before its Q4 earnings were released, Coinbase's stock had risen 86% year-to-date. Even with that rally, \n",
    "            the value of Coinbase when measured on a per-share basis is still down significantly from its 52-week high of $206.79.\n",
    "            That Coinbase beat revenue expectations is notable in that it came with declines in trading volume; Coinbase historically \n",
    "            generated the bulk of its revenues from trading fees, making Q4 2022 notable. Consumer trading volumes fell from $26 \n",
    "            billion in the third quarter of last year to $20 billion in Q4, while institutional volumes across the same timeframe \n",
    "            fell from $133 billion to $125 billion.The overall crypto market capitalization fell about 64%, or $1.5 trillion during 2022,\n",
    "            which resulted in Coinbase's total trading volumes and transaction revenues to fall 50% and 66% year-over-year, respectively, \n",
    "            the company reported.As you would expect with declines in trading volume, trading revenue at Coinbase fell in Q4 compared \n",
    "            to the third quarter of last year, dipping from $365.9 million to $322.1 million. (TechCrunch is comparing Coinbase's Q4 2022 \n",
    "            results to Q3 2022 instead of Q4 2021, as the latter comparison would be less useful given how much the crypto market has \n",
    "            changed in the last year; we're all aware that overall crypto activity has fallen from the final months of 2021.)There were \n",
    "            bits of good news in the Coinbase report. While Coinbase's trading revenues were less than exuberant, the company's other \n",
    "            revenues posted gains. What Coinbase calls its \"subscription and services revenue\" rose from $210.5 million in Q3 2022 \n",
    "            to $282.8 million in Q4 of the same year, a gain of just over 34% in a single quarter.And even as the crypto industry \n",
    "            faced a number of catastrophic events, including the Terra/LUNA and FTX collapses to name a few, there was still growth \n",
    "            in other areas. The monthly active developers in crypto have more than doubled since 2020 to over 20,000, while major brands \n",
    "            like Starbucks, Nike and Adidas have dived into the space alongside social media platforms like Instagram and Reddit.With \n",
    "            big players getting into crypto, industry players are hoping this move results in greater adoption both for product use cases \n",
    "            and trading volumes. Although there was a lot of movement from traditional retail markets and Web 2.0 businesses, trading \n",
    "            volume for both consumer and institutional users fell quarter-over-quarter for Coinbase.Looking forward, it'll be interesting \n",
    "            to see if these pieces pick back up and trading interest reemerges in 2023, or if platforms like Coinbase will have to keep \n",
    "            looking elsewhere for revenue (like its subscription service) if users continue to shy away from the market.'''"
   ]
  },
  {
   "cell_type": "code",
   "execution_count": 7,
   "metadata": {},
   "outputs": [],
   "source": [
    "import os, yaml, textwrap\n",
    "from openai import OpenAI, ChatCompletion"
   ]
  },
  {
   "cell_type": "code",
   "execution_count": 3,
   "metadata": {},
   "outputs": [],
   "source": [
    "with open('cadentials.yaml') as f:\n",
    "    cadentials = yaml.load(f, Loader=yaml.FullLoader)\n",
    "\n",
    "os.environ['OPENAI_API_KEY'] = cadentials['OPENAI_API_KEY']"
   ]
  },
  {
   "cell_type": "code",
   "execution_count": 4,
   "metadata": {},
   "outputs": [],
   "source": [
    "client = OpenAI()"
   ]
  },
  {
   "cell_type": "code",
   "execution_count": 5,
   "metadata": {},
   "outputs": [],
   "source": [
    "def complete_model(\n",
    "                    BOT_ROLE,\n",
    "                    USER_MESSAGE\n",
    "                    ):\n",
    "    response = client.chat.completions.create(\n",
    "                                            model = 'gpt-3.5-turbo',\n",
    "                                            messages = [\n",
    "                                                        {\"role\": \"system\", \"content\" : BOT_ROLE},\n",
    "                                                        {\"role\": \"user\", \"content\": USER_MESSAGE}              \n",
    "                                                        ],\n",
    "                                            temperature=0,\n",
    "                                            max_tokens=500\n",
    "                                            )\n",
    "    return str(response.choices[0].message.content)"
   ]
  },
  {
   "cell_type": "markdown",
   "metadata": {},
   "source": [
    "### 1. Fact Extraction"
   ]
  },
  {
   "cell_type": "code",
   "execution_count": 12,
   "metadata": {},
   "outputs": [
    {
     "name": "stdout",
     "output_type": "stream",
     "text": [
      "1. Coinbase released its Q4 2022 earnings, showing a decline in revenue compared to the previous year.\n",
      "2. Coinbase generated $605 million in total revenue in Q4 2022.\n",
      "3. Coinbase reported a net loss of $557 million in Q4 2022.\n",
      "4. Wall Street expected Coinbase to report $581.2 million in revenue and a net loss per share of -$2.44.\n",
      "5. Coinbase's stock had risen 86% year-to-date before the earnings release.\n",
      "6. Coinbase beat revenue expectations despite a decline in trading volume.\n",
      "7. Consumer trading volumes fell from $26 billion in Q3 2022 to $20 billion in Q4 2022.\n",
      "8. Institutional trading volumes fell from $133 billion to $125 billion in the same timeframe.\n",
      "9. The overall crypto market capitalization fell about 64% during 2022.\n",
      "10. Coinbase's total trading volumes and transaction revenues fell 50% and 66% year-over-year, respectively.\n",
      "11. Trading revenue at Coinbase fell from $365.9 million in Q3 2022 to $322.1 million in Q4 2022.\n",
      "12. Coinbase's \"subscription and services revenue\" rose from $210.5 million in Q3 2022 to $282.8 million in Q4 2022.\n",
      "13. Monthly active developers in crypto have more than doubled since 2020 to over 20,000.\n",
      "14. Major brands like Starbucks, Nike, and Adidas have entered the crypto space.\n",
      "15. Trading volume for both consumer and institutional users fell quarter-over-quarter for Coinbase.\n",
      "16. The future trading interest and revenue generation for platforms like Coinbase are uncertain.\n"
     ]
    }
   ],
   "source": [
    "BOT_ROLE = \"You are a helpful tool for fact extraction\"\n",
    "USER_MESSAGE = f\"Extract the key facts out of this text. Don't include opinions. Give each fact a number and keep them short sentences:\\n\\n {article}\"\n",
    "\n",
    "\n",
    "response = complete_model(BOT_ROLE, USER_MESSAGE)\n",
    "# print(textwrap.fill(response, width = 140))\n",
    "print(response)"
   ]
  },
  {
   "cell_type": "markdown",
   "metadata": {},
   "source": [
    "### 2. Summarization"
   ]
  },
  {
   "cell_type": "code",
   "execution_count": 14,
   "metadata": {},
   "outputs": [
    {
     "name": "stdout",
     "output_type": "stream",
     "text": [
      "Coinbase, a leading cryptocurrency exchange, recently released its Q4 2022 earnings, revealing a decline in revenue compared to the previous\n",
      "year. Despite this, the company exceeded Wall Street's expectations by generating $605 million in total revenue during the quarter. However,\n",
      "Coinbase reported a net loss of $557 million. It is worth noting that the company's stock had experienced an 86% increase year-to-date prior\n",
      "to the earnings release. The decline in trading volume was evident, with consumer trading volumes dropping from $26 billion in Q3 2022 to\n",
      "$20 billion in Q4 2022, and institutional trading volumes falling from $133 billion to $125 billion in the same period. The overall crypto\n",
      "market capitalization also decreased by approximately 64% in 2022. Despite these challenges, Coinbase's \"subscription and services revenue\"\n",
      "experienced growth, rising from $210.5 million in Q3 2022 to $282.8 million in Q4 2022. Furthermore, the number of monthly active developers\n",
      "in the crypto space has more than doubled since 2020, surpassing 20,000. Notably, major brands like Starbucks, Nike, and Adidas have entered\n",
      "the crypto space. However, it is important to highlight that trading volume for both consumer and institutional users declined quarter-over-\n",
      "quarter for Coinbase. Given these factors, the future trading interest and revenue generation for platforms like Coinbase remain uncertain.\n"
     ]
    }
   ],
   "source": [
    "BOT_ROLE = \"You are a helpful tool for summarizing facts.\"\n",
    "USER_MESSAGE = f\"Take the following list of facts and use them to write a short paragrah for investors. Don't leave out key info:\\n\\n {response}\"\n",
    "\n",
    "response = complete_model(BOT_ROLE, USER_MESSAGE)\n",
    "# print(textwrap.fill(response, width = 140))\n",
    "print(response)"
   ]
  },
  {
   "cell_type": "markdown",
   "metadata": {},
   "source": [
    "### 3. Machine Translation"
   ]
  },
  {
   "cell_type": "code",
   "execution_count": 15,
   "metadata": {},
   "outputs": [
    {
     "name": "stdout",
     "output_type": "stream",
     "text": [
      "Coinbase, una destacada plataforma de intercambio de criptomonedas, recientemente publicó sus ganancias del cuarto trimestre de 2022,\n",
      "revelando una disminución en los ingresos en comparación con el año anterior. A pesar de esto, la compañía superó las expectativas de Wall\n",
      "Street al generar $605 millones en ingresos totales durante el trimestre. Sin embargo, Coinbase informó una pérdida neta de $557 millones.\n",
      "Vale la pena destacar que las acciones de la compañía habían experimentado un aumento del 86% en lo que va del año antes de la publicación\n",
      "de las ganancias. La disminución en el volumen de operaciones fue evidente, con volúmenes de operaciones de consumidores que cayeron de $26\n",
      "mil millones en el tercer trimestre de 2022 a $20 mil millones en el cuarto trimestre de 2022, y los volúmenes de operaciones\n",
      "institucionales que cayeron de $133 mil millones a $125 mil millones en el mismo período. La capitalización de mercado general de las\n",
      "criptomonedas también disminuyó aproximadamente un 64% en 2022. A pesar de estos desafíos, los ingresos por \"suscripción y servicios\" de\n",
      "Coinbase experimentaron un crecimiento, aumentando de $210.5 millones en el tercer trimestre de 2022 a $282.8 millones en el cuarto\n",
      "trimestre de 2022. Además, el número de desarrolladores activos mensuales en el espacio de las criptomonedas se ha más que duplicado desde\n",
      "2020, superando los 20,000. Es importante destacar que marcas importantes como Starbucks, Nike y Adidas han ingresado al espacio de las\n",
      "criptomonedas. Sin embargo, es importante resaltar que el volumen de operaciones tanto para usuarios consumidores como institucionales\n",
      "disminuyó trimestre tras trimestre para Coinbase. Dados estos factores, el interés futuro en las operaciones y la generación de ingresos\n",
      "para plataformas como Coinbase siguen siendo inciertos.\n"
     ]
    }
   ],
   "source": [
    "BOT_ROLE = \"You are a helpful tool for machine translation\"\n",
    "USER_MESSAGE = f\"Take the following context and convert it to Spanish Language:\\n\\n {response}\"\n",
    "\n",
    "response = complete_model(BOT_ROLE, USER_MESSAGE)\n",
    "# print(textwrap.fill(response, width = 140))\n",
    "print(response)"
   ]
  },
  {
   "cell_type": "markdown",
   "metadata": {},
   "source": [
    "# All in one"
   ]
  },
  {
   "cell_type": "code",
   "execution_count": 16,
   "metadata": {},
   "outputs": [],
   "source": [
    "BOT_ROLE = \"You are a helpful tool for fact extraction\"\n",
    "USER_MESSAGE = f\"Extract the key facts out of this text. Don't include opinions. Give each fact a number and keep them short sentences:\\n\\n {article}\"\n",
    "response = complete_model(BOT_ROLE, USER_MESSAGE)\n",
    "\n",
    "BOT_ROLE = \"You are a helpful tool for summarizing facts.\"\n",
    "USER_MESSAGE = f\"Take the following list of facts and use them to write a short paragrah for investors. Don't leave out key info:\\n\\n {response}\"\n",
    "response = complete_model(BOT_ROLE, USER_MESSAGE)\n",
    "\n",
    "BOT_ROLE = \"You are a helpful tool for machine translation\"\n",
    "USER_MESSAGE = f\"Take the following context and convert it to Spanish Language:\\n\\n {response}\"\n",
    "response = complete_model(BOT_ROLE, USER_MESSAGE)"
   ]
  },
  {
   "cell_type": "code",
   "execution_count": 17,
   "metadata": {},
   "outputs": [
    {
     "name": "stdout",
     "output_type": "stream",
     "text": [
      "Coinbase, una de las principales plataformas de intercambio de criptomonedas, recientemente publicó sus ganancias del cuarto trimestre de\n",
      "2022, las cuales mostraron una disminución en los ingresos en comparación con el año anterior. A pesar de esto, Coinbase generó $605\n",
      "millones en ingresos totales durante el trimestre, superando las expectativas de Wall Street. Sin embargo, la compañía reportó una pérdida\n",
      "neta de $557 millones. Vale la pena mencionar que las acciones de Coinbase habían aumentado un 86% en lo que va del año antes de la\n",
      "publicación de las ganancias. La disminución en el volumen de operaciones fue evidente, con volúmenes de operaciones de consumidores que\n",
      "cayeron de $26 mil millones en el tercer trimestre de 2022 a $20 mil millones en el cuarto trimestre de 2022, y volúmenes de operaciones\n",
      "institucionales que cayeron de $133 mil millones a $125 mil millones en el mismo período de tiempo. La capitalización total del mercado de\n",
      "criptomonedas también cayó aproximadamente un 64% durante 2022. A pesar de estos desafíos, los ingresos por \"suscripción y servicios\" de\n",
      "Coinbase experimentaron un crecimiento, aumentando de $210.5 millones en el tercer trimestre de 2022 a $282.8 millones en el cuarto\n",
      "trimestre de 2022. Además, el número de desarrolladores activos mensuales en el espacio de las criptomonedas se ha más que duplicado desde\n",
      "2020, superando los 20,000. Grandes marcas como Starbucks, Nike y Adidas también han ingresado al espacio de las criptomonedas. Es\n",
      "importante destacar que el volumen de operaciones tanto para usuarios consumidores como institucionales disminuyó trimestre tras trimestre\n",
      "para Coinbase. Dadas estas circunstancias, el interés futuro en las operaciones y la generación de ingresos para plataformas como Coinbase\n",
      "permanecen inciertos.\n"
     ]
    }
   ],
   "source": [
    "# print(textwrap.fill(response, width = 140))\n",
    "print(response)"
   ]
  },
  {
   "cell_type": "code",
   "execution_count": null,
   "metadata": {},
   "outputs": [],
   "source": []
  }
 ],
 "metadata": {
  "kernelspec": {
   "display_name": "llamaindex",
   "language": "python",
   "name": "python3"
  },
  "language_info": {
   "codemirror_mode": {
    "name": "ipython",
    "version": 3
   },
   "file_extension": ".py",
   "mimetype": "text/x-python",
   "name": "python",
   "nbconvert_exporter": "python",
   "pygments_lexer": "ipython3",
   "version": "3.9.18"
  }
 },
 "nbformat": 4,
 "nbformat_minor": 2
}
