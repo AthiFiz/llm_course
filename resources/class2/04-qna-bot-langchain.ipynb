{
 "cells": [
  {
   "cell_type": "code",
   "execution_count": 13,
   "metadata": {},
   "outputs": [],
   "source": [
    "article = '''\n",
    "            Coinbase, the second-largest crypto exchange by trading volume, released its Q4 2022 earnings on Tuesday, \n",
    "            giving shareholders and market players alike an updated look into its financials. In response to the report, \n",
    "            the company's shares are down modestly in early after-hours trading.In the fourth quarter of 2022, Coinbase \n",
    "            generated $605 million in total revenue, down sharply from $2.49 billion in the year-ago quarter. Coinbase's \n",
    "            top line was not enough to cover its expenses: The company lost $557 million in the three-month period on a \n",
    "            GAAP basis (net income) worth -$2.46 per share, and an adjusted EBITDA deficit of $124 million.Wall Street \n",
    "            expected Coinbase to report $581.2 million in revenue and earnings per share of -$2.44 with adjusted EBITDA \n",
    "            of -$201.8 million driven by 8.4 million monthly transaction users (MTUs), according to data provided by \n",
    "            Yahoo Finance.Before its Q4 earnings were released, Coinbase's stock had risen 86% year-to-date. Even with that rally, \n",
    "            the value of Coinbase when measured on a per-share basis is still down significantly from its 52-week high of $206.79.\n",
    "            That Coinbase beat revenue expectations is notable in that it came with declines in trading volume; Coinbase historically \n",
    "            generated the bulk of its revenues from trading fees, making Q4 2022 notable. Consumer trading volumes fell from $26 \n",
    "            billion in the third quarter of last year to $20 billion in Q4, while institutional volumes across the same timeframe \n",
    "            fell from $133 billion to $125 billion.The overall crypto market capitalization fell about 64%, or $1.5 trillion during 2022,\n",
    "            which resulted in Coinbase's total trading volumes and transaction revenues to fall 50% and 66% year-over-year, respectively, \n",
    "            the company reported.As you would expect with declines in trading volume, trading revenue at Coinbase fell in Q4 compared \n",
    "            to the third quarter of last year, dipping from $365.9 million to $322.1 million. (TechCrunch is comparing Coinbase's Q4 2022 \n",
    "            results to Q3 2022 instead of Q4 2021, as the latter comparison would be less useful given how much the crypto market has \n",
    "            changed in the last year; we're all aware that overall crypto activity has fallen from the final months of 2021.)There were \n",
    "            bits of good news in the Coinbase report. While Coinbase's trading revenues were less than exuberant, the company's other \n",
    "            revenues posted gains. What Coinbase calls its \"subscription and services revenue\" rose from $210.5 million in Q3 2022 \n",
    "            to $282.8 million in Q4 of the same year, a gain of just over 34% in a single quarter.And even as the crypto industry \n",
    "            faced a number of catastrophic events, including the Terra/LUNA and FTX collapses to name a few, there was still growth \n",
    "            in other areas. The monthly active developers in crypto have more than doubled since 2020 to over 20,000, while major brands \n",
    "            like Starbucks, Nike and Adidas have dived into the space alongside social media platforms like Instagram and Reddit.With \n",
    "            big players getting into crypto, industry players are hoping this move results in greater adoption both for product use cases \n",
    "            and trading volumes. Although there was a lot of movement from traditional retail markets and Web 2.0 businesses, trading \n",
    "            volume for both consumer and institutional users fell quarter-over-quarter for Coinbase.Looking forward, it'll be interesting \n",
    "            to see if these pieces pick back up and trading interest reemerges in 2023, or if platforms like Coinbase will have to keep \n",
    "            looking elsewhere for revenue (like its subscription service) if users continue to shy away from the market.'''"
   ]
  },
  {
   "cell_type": "code",
   "execution_count": 33,
   "metadata": {},
   "outputs": [],
   "source": [
    "import os, yaml \n",
    "from langchain.chat_models import ChatOpenAI\n",
    "from langchain.prompts import PromptTemplate\n",
    "from langchain.chains import LLMChain, SimpleSequentialChain"
   ]
  },
  {
   "cell_type": "code",
   "execution_count": 5,
   "metadata": {},
   "outputs": [],
   "source": [
    "with open('cadentials.yaml') as f:\n",
    "    cadentials = yaml.load(f, Loader=yaml.FullLoader)\n",
    "\n",
    "os.environ['OPENAI_API_KEY'] = cadentials['OPENAI_API_KEY']\n",
    "enc = tiktoken.get_encoding(\"cl100k_base\")"
   ]
  },
  {
   "cell_type": "code",
   "execution_count": 7,
   "metadata": {},
   "outputs": [],
   "source": [
    "client = ChatOpenAI(\n",
    "                    openai_api_key = os.environ['OPENAI_API_KEY'],\n",
    "                    model = 'gpt-3.5-turbo',\n",
    "                    temperature=0,\n",
    "                    max_tokens=500\n",
    "                    )"
   ]
  },
  {
   "cell_type": "markdown",
   "metadata": {},
   "source": [
    "### 1. Fact Extraction"
   ]
  },
  {
   "cell_type": "code",
   "execution_count": 15,
   "metadata": {},
   "outputs": [
    {
     "name": "stdout",
     "output_type": "stream",
     "text": [
      "1. Coinbase released its Q4 2022 earnings, showing a decline in revenue compared to the previous year.\n",
      "2. Coinbase generated $605 million in total revenue in Q4 2022.\n",
      "3. Coinbase reported a net loss of $557 million in Q4 2022.\n",
      "4. Wall Street expected Coinbase to report $581.2 million in revenue and a net loss per share of -$2.44.\n",
      "5. Coinbase's stock had risen 86% year-to-date before the earnings release.\n",
      "6. Coinbase beat revenue expectations despite a decline in trading volume.\n",
      "7. Consumer trading volumes fell from $26 billion in Q3 2022 to $20 billion in Q4 2022.\n",
      "8. Institutional trading volumes fell from $133 billion to $125 billion in the same timeframe.\n",
      "9. The overall crypto market capitalization fell 64% in 2022.\n",
      "10. Coinbase's total trading volumes and transaction revenues fell 50% and 66% year-over-year, respectively.\n",
      "11. Trading revenue at Coinbase fell from $365.9 million in Q3 2022 to $322.1 million in Q4 2022.\n",
      "12. Coinbase's \"subscription and services revenue\" increased from $210.5 million in Q3 2022 to $282.8 million in Q4 2022.\n",
      "13. Monthly active developers in the crypto industry have more than doubled since 2020.\n",
      "14. Major brands like Starbucks, Nike, and Adidas have entered the crypto space.\n",
      "15. Trading volume for both consumer and institutional users fell quarter-over-quarter for Coinbase.\n",
      "16. The future trading interest and revenue generation for platforms like Coinbase are uncertain.\n"
     ]
    }
   ],
   "source": [
    "USER_MESSAGE = \"Extract the key facts out of this text. Don't include opinions. Give each fact a number and keep them short sentences:\\n\\n {text_input}\"\n",
    "\n",
    "fact_extraction_prompt = PromptTemplate(\n",
    "                                        input_variables=[\"text_input\"],\n",
    "                                        template=USER_MESSAGE\n",
    "                                        )\n",
    "\n",
    "fact_extraction_chain = LLMChain(\n",
    "                                llm=client,\n",
    "                                prompt=fact_extraction_prompt\n",
    "                                )\n",
    "\n",
    "facts = fact_extraction_chain.run(article)\n",
    "print(facts)"
   ]
  },
  {
   "cell_type": "markdown",
   "metadata": {},
   "source": [
    "### 2. Summarization"
   ]
  },
  {
   "cell_type": "code",
   "execution_count": 29,
   "metadata": {},
   "outputs": [
    {
     "name": "stdout",
     "output_type": "stream",
     "text": [
      "Investors, here are some key facts to consider. It is important to note that the two sentences provided do not have the same meaning. This highlights the significance of carefully analyzing information and understanding its implications. As investors, it is crucial to thoroughly evaluate all available data, ensuring that no crucial details are overlooked. By doing so, you can make informed decisions and mitigate potential risks, ultimately maximizing your investment opportunities.\n"
     ]
    }
   ],
   "source": [
    "USER_MESSAGE = \"Take the following list of facts and use them to write a short paragrah for investors. Don't leave out key info:\\n\\n {text_input}\"\n",
    "\n",
    "fact_summarization_prompt = PromptTemplate(\n",
    "                                        input_variables=[\"text_input\"],\n",
    "                                        template=USER_MESSAGE\n",
    "                                        )\n",
    "\n",
    "fact_summarization_chain = LLMChain(\n",
    "                                llm=client,\n",
    "                                prompt=fact_summarization_prompt\n",
    "                                )\n",
    "\n",
    "facts = fact_summarization_chain.run(facts)\n",
    "print(facts)"
   ]
  },
  {
   "cell_type": "markdown",
   "metadata": {},
   "source": [
    "### 3. Machine Translation"
   ]
  },
  {
   "cell_type": "code",
   "execution_count": 30,
   "metadata": {},
   "outputs": [
    {
     "name": "stdout",
     "output_type": "stream",
     "text": [
      "Inversores, aquí hay algunos datos clave a considerar. Es importante tener en cuenta que las dos oraciones proporcionadas no tienen el mismo significado. Esto resalta la importancia de analizar cuidadosamente la información y comprender sus implicaciones. Como inversores, es crucial evaluar minuciosamente todos los datos disponibles, asegurándose de no pasar por alto detalles cruciales. Al hacerlo, podrán tomar decisiones informadas y mitigar los riesgos potenciales, maximizando así sus oportunidades de inversión.\n"
     ]
    }
   ],
   "source": [
    "USER_MESSAGE = \"Take the following context and convert it to Spanish Language:\\n\\n {text_input}\"\n",
    "\n",
    "translation_prompt = PromptTemplate(\n",
    "                                        input_variables=[\"text_input\"],\n",
    "                                        template=USER_MESSAGE\n",
    "                                        )\n",
    "\n",
    "translation_chain = LLMChain(\n",
    "                                llm=client,\n",
    "                                prompt=translation_prompt\n",
    "                                )\n",
    "\n",
    "spanish_text = translation_chain.run(facts)\n",
    "print(spanish_text)"
   ]
  },
  {
   "cell_type": "markdown",
   "metadata": {},
   "source": [
    "# All in One"
   ]
  },
  {
   "cell_type": "code",
   "execution_count": 34,
   "metadata": {},
   "outputs": [
    {
     "name": "stdout",
     "output_type": "stream",
     "text": [
      "Estimados inversores,\n",
      "\n",
      "Nos gustaría proporcionarles una visión general de las ganancias del cuarto trimestre de 2022 de Coinbase y sus implicaciones para el futuro de la empresa. A pesar de una disminución en los ingresos en comparación con el año anterior, Coinbase generó $605 millones en ingresos totales durante este período. Sin embargo, informó una pérdida neta de $557 millones, que fue más alta de lo esperado. Wall Street anticipaba ingresos de $581.2 millones y una pérdida neta por acción de -$2.44. Vale la pena señalar que las acciones de Coinbase habían aumentado un 86% en lo que va del año antes del informe de ganancias.\n",
      "\n",
      "Aunque los volúmenes de negociación experimentaron una disminución, Coinbase logró superar las expectativas de ingresos. Los volúmenes de negociación de los consumidores cayeron de $26 mil millones en el tercer trimestre de 2022 a $20 mil millones en el cuarto trimestre de 2022, mientras que los volúmenes de negociación institucionales disminuyeron de $133 mil millones a $125 mil millones en el mismo período. La capitalización total del mercado de criptomonedas también cayó un 64% en 2022. Los volúmenes de negociación totales de Coinbase y los ingresos por transacciones cayeron un 50% y un 66% interanual, respectivamente. Los ingresos por negociación específicamente disminuyeron de $365.9 millones en el tercer trimestre de 2022 a $322.1 millones en el cuarto trimestre de 2022.\n",
      "\n",
      "A pesar de estos desafíos, los \"ingresos por suscripción y servicios\" de Coinbase aumentaron de $210.5 millones en el tercer trimestre de 2022 a $282.8 millones en el cuarto trimestre de 2022. Además, la industria de las criptomonedas ha experimentado un crecimiento significativo, con un aumento de más del doble en los desarrolladores activos mensuales desde 2020. Grandes marcas como Starbucks, Nike y Adidas también han ingresado al espacio de las criptomonedas, lo que indica su cre\n"
     ]
    }
   ],
   "source": [
    "full_chain = SimpleSequentialChain(\n",
    "                                    chains = [\n",
    "                                            fact_extraction_chain,\n",
    "                                            fact_summarization_chain,\n",
    "                                            translation_chain\n",
    "                                    ]\n",
    "                                    )\n",
    "\n",
    "response = full_chain.run(article)\n",
    "print(response)"
   ]
  }
 ],
 "metadata": {
  "kernelspec": {
   "display_name": "llamaindex",
   "language": "python",
   "name": "python3"
  },
  "language_info": {
   "codemirror_mode": {
    "name": "ipython",
    "version": 3
   },
   "file_extension": ".py",
   "mimetype": "text/x-python",
   "name": "python",
   "nbconvert_exporter": "python",
   "pygments_lexer": "ipython3",
   "version": "3.9.18"
  }
 },
 "nbformat": 4,
 "nbformat_minor": 2
}
