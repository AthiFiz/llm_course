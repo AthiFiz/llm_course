{
 "cells": [
  {
   "cell_type": "markdown",
   "metadata": {},
   "source": [
    "### Why memory is important?\n",
    "    - chat models totally rely on memory\n",
    "    - memory is the key to understand the context\n",
    "    \n",
    "### How to handle memory on LLMs?\n",
    "    1. put it in the prompt\n",
    "    2. have external lookup\n",
    "\n",
    "### What is the best way to handle memory?\n",
    "    - put it in the prompt is easier but is not the best way, because as conversation goes on, the prompt will be too long\n",
    "      but we can recosntruct the memory from the conversation in different ways to optimize the memory as,\n",
    "            1. buffer the conversation\n",
    "            2. summarize the conversation\n",
    "            3. buffer the conversation with window  \n",
    "            4. buffer the conversation with window and summarization\n",
    "            5. use knowledge graph "
   ]
  },
  {
   "cell_type": "code",
   "execution_count": 27,
   "metadata": {},
   "outputs": [],
   "source": [
    "import tiktoken\n",
    "from langchain.chains import ConversationChain\n",
    "import yaml, os, tiktoken, langchain, textwrap\n",
    "from langchain.prompts.prompt import PromptTemplate\n",
    "from langchain.chat_models import ChatOpenAI, AzureChatOpenAI\n",
    "from langchain.chains.conversation.memory import ConversationBufferMemory, \\\n",
    "                                                 ConversationSummaryMemory, \\\n",
    "                                                 ConversationBufferWindowMemory, \\\n",
    "                                                 ConversationSummaryBufferMemory, \\\n",
    "                                                 ConversationKGMemory"
   ]
  },
  {
   "cell_type": "code",
   "execution_count": 32,
   "metadata": {},
   "outputs": [
    {
     "name": "stdout",
     "output_type": "stream",
     "text": [
      "Requirement already satisfied: tiktoken in /Users/1zuu/miniforge3/envs/llamaindex/lib/python3.9/site-packages (0.5.1)\n",
      "Requirement already satisfied: regex>=2022.1.18 in /Users/1zuu/miniforge3/envs/llamaindex/lib/python3.9/site-packages (from tiktoken) (2023.10.3)\n",
      "Requirement already satisfied: requests>=2.26.0 in /Users/1zuu/miniforge3/envs/llamaindex/lib/python3.9/site-packages (from tiktoken) (2.31.0)\n",
      "Requirement already satisfied: charset-normalizer<4,>=2 in /Users/1zuu/miniforge3/envs/llamaindex/lib/python3.9/site-packages (from requests>=2.26.0->tiktoken) (3.3.2)\n",
      "Requirement already satisfied: idna<4,>=2.5 in /Users/1zuu/miniforge3/envs/llamaindex/lib/python3.9/site-packages (from requests>=2.26.0->tiktoken) (3.4)\n",
      "Requirement already satisfied: urllib3<3,>=1.21.1 in /Users/1zuu/miniforge3/envs/llamaindex/lib/python3.9/site-packages (from requests>=2.26.0->tiktoken) (1.26.18)\n",
      "Requirement already satisfied: certifi>=2017.4.17 in /Users/1zuu/miniforge3/envs/llamaindex/lib/python3.9/site-packages (from requests>=2.26.0->tiktoken) (2023.11.17)\n"
     ]
    }
   ],
   "source": [
    "!pip install tiktoken"
   ]
  },
  {
   "cell_type": "code",
   "execution_count": 2,
   "metadata": {},
   "outputs": [],
   "source": [
    "with open('cadentials.yaml') as f:\n",
    "    cadentials = yaml.load(f, Loader=yaml.FullLoader)\n",
    "\n",
    "os.environ['OPENAI_API_KEY'] = cadentials['OPENAI_API_KEY']\n",
    "enc = tiktoken.get_encoding(\"cl100k_base\")"
   ]
  },
  {
   "cell_type": "code",
   "execution_count": 3,
   "metadata": {},
   "outputs": [],
   "source": [
    "client = ChatOpenAI(\n",
    "                    openai_api_key = os.environ['OPENAI_API_KEY'],\n",
    "                    model = 'gpt-3.5-turbo',\n",
    "                    temperature=0,\n",
    "                    max_tokens=500\n",
    "                    )"
   ]
  },
  {
   "cell_type": "markdown",
   "metadata": {},
   "source": [
    "## 1. ConversationBufferMemory"
   ]
  },
  {
   "cell_type": "code",
   "execution_count": 21,
   "metadata": {},
   "outputs": [],
   "source": [
    "memory = ConversationBufferMemory()\n",
    "\n",
    "conversation = ConversationChain(\n",
    "                                llm=client,\n",
    "                                memory=memory,\n",
    "                                verbose=True\n",
    "                                )"
   ]
  },
  {
   "cell_type": "code",
   "execution_count": 22,
   "metadata": {},
   "outputs": [
    {
     "name": "stdout",
     "output_type": "stream",
     "text": [
      "The following is a friendly conversation between a human and an AI. The AI is talkative and provides lots of specific details from its context. If the AI does not know the answer to a question, it truthfully says it does not know.\n",
      "\n",
      "Current conversation:\n",
      "{history}\n",
      "Human: {input}\n",
      "AI:\n"
     ]
    }
   ],
   "source": [
    "template = conversation.prompt.template\n",
    "print(template)"
   ]
  },
  {
   "cell_type": "code",
   "execution_count": 23,
   "metadata": {},
   "outputs": [
    {
     "name": "stdout",
     "output_type": "stream",
     "text": [
      "\n"
     ]
    }
   ],
   "source": [
    "buffer = conversation.memory.buffer\n",
    "print(buffer)"
   ]
  },
  {
   "cell_type": "code",
   "execution_count": 24,
   "metadata": {},
   "outputs": [],
   "source": [
    "query = \"Do you know about machine learning ?\""
   ]
  },
  {
   "cell_type": "code",
   "execution_count": 25,
   "metadata": {},
   "outputs": [
    {
     "name": "stdout",
     "output_type": "stream",
     "text": [
      "\n",
      "\n",
      "\u001b[1m> Entering new ConversationChain chain...\u001b[0m\n",
      "Prompt after formatting:\n",
      "\u001b[32;1m\u001b[1;3mThe following is a friendly conversation between a human and an AI. The AI is talkative and provides lots of specific details from its context. If the AI does not know the answer to a question, it truthfully says it does not know.\n",
      "\n",
      "Current conversation:\n",
      "\n",
      "Human: Do you know about machine learning ?\n",
      "AI:\u001b[0m\n",
      "\n",
      "\u001b[1m> Finished chain.\u001b[0m\n"
     ]
    },
    {
     "data": {
      "text/plain": [
       "'Yes, I am familiar with machine learning. It is a subfield of artificial intelligence that focuses on the development of algorithms and models that allow computers to learn and make predictions or decisions without being explicitly programmed. Machine learning involves training a model on a large dataset and using statistical techniques to enable the model to learn patterns and relationships within the data. This allows the model to make accurate predictions or decisions on new, unseen data. Machine learning has applications in various fields such as image recognition, natural language processing, and recommendation systems.'"
      ]
     },
     "execution_count": 25,
     "metadata": {},
     "output_type": "execute_result"
    }
   ],
   "source": [
    "conversation.run(query)"
   ]
  },
  {
   "cell_type": "code",
   "execution_count": 12,
   "metadata": {},
   "outputs": [
    {
     "name": "stdout",
     "output_type": "stream",
     "text": [
      "Human: Hi, I'm Isuru !\n",
      "AI: Hello Isuru! How can I assist you today?\n",
      "Human: Do you know about machine learning ?\n",
      "AI: Yes, I am familiar with machine learning. It is a field of study that focuses on developing algorithms and models that allow computers to learn and make predictions or decisions without being explicitly programmed. Machine learning algorithms can analyze and interpret large amounts of data to identify patterns and make accurate predictions or decisions. It is widely used in various applications such as image recognition, natural language processing, and recommendation systems.\n"
     ]
    }
   ],
   "source": [
    "buffer = conversation.memory.buffer\n",
    "print(buffer)"
   ]
  },
  {
   "cell_type": "markdown",
   "metadata": {},
   "source": [
    "#### write the chat in a better way\n"
   ]
  },
  {
   "cell_type": "code",
   "execution_count": 39,
   "metadata": {},
   "outputs": [],
   "source": [
    "memory = ConversationBufferMemory()\n",
    "\n",
    "conversation = ConversationChain(\n",
    "                                llm=client,\n",
    "                                memory=memory,\n",
    "                                verbose=False\n",
    "                                )"
   ]
  },
  {
   "cell_type": "code",
   "execution_count": 40,
   "metadata": {},
   "outputs": [
    {
     "data": {
      "text/plain": [
       "'f'"
      ]
     },
     "execution_count": 40,
     "metadata": {},
     "output_type": "execute_result"
    }
   ],
   "source": [
    "query = input(\"Enter your query : \")\n",
    "query"
   ]
  },
  {
   "cell_type": "code",
   "execution_count": 41,
   "metadata": {},
   "outputs": [
    {
     "name": "stdout",
     "output_type": "stream",
     "text": [
      "####################################################################################################\n",
      "########################################## ITERATION : 1 ##########################################\n",
      "The following is a friendly conversation between a human and an AI. The AI is talkative and provides lots of specific details from its context. If the AI does not know the answer to a question, it truthfully says it does not know.\n",
      "\n",
      "Current conversation:\n",
      "\n",
      "Human: hello, I am zuu \n",
      "AI:\n",
      "\n",
      "\n",
      "TOKENS : 63\n",
      "\n",
      "\n",
      "RESPONSE : Hello Zuu! How can I assist you today?\n",
      "\n",
      "\n",
      "####################################################################################################\n",
      "########################################## ITERATION : 2 ##########################################\n",
      "The following is a friendly conversation between a human and an AI. The AI is talkative and provides lots of specific details from its context. If the AI does not know the answer to a question, it truthfully says it does not know.\n",
      "\n",
      "Current conversation:\n",
      "Human: hello, I am zuu \n",
      "AI: Hello Zuu! How can I assist you today?\n",
      "Human: do you know about machine klearning ?\n",
      "AI:\n",
      "\n",
      "\n",
      "TOKENS : 86\n",
      "\n",
      "\n",
      "RESPONSE : Yes, I am familiar with machine learning. It is a field of study that focuses on developing algorithms and models that allow computers to learn and make predictions or decisions without being explicitly programmed. Machine learning involves training a model on a dataset and using that trained model to make predictions or decisions on new, unseen data. It has applications in various domains such as image recognition, natural language processing, and recommendation systems. Is there anything specific you would like to know about machine learning?\n",
      "\n",
      "\n",
      "####################################################################################################\n",
      "########################################## ITERATION : 3 ##########################################\n",
      "The following is a friendly conversation between a human and an AI. The AI is talkative and provides lots of specific details from its context. If the AI does not know the answer to a question, it truthfully says it does not know.\n",
      "\n",
      "Current conversation:\n",
      "Human: hello, I am zuu \n",
      "AI: Hello Zuu! How can I assist you today?\n",
      "Human: do you know about machine klearning ?\n",
      "AI: Yes, I am familiar with machine learning. It is a field of study that focuses on developing algorithms and models that allow computers to learn and make predictions or decisions without being explicitly programmed. Machine learning involves training a model on a dataset and using that trained model to make predictions or decisions on new, unseen data. It has applications in various domains such as image recognition, natural language processing, and recommendation systems. Is there anything specific you would like to know about machine learning?\n",
      "Human: how it diferes from deep learning ?\n",
      "AI:\n",
      "\n",
      "\n",
      "TOKENS : 192\n",
      "\n",
      "\n",
      "RESPONSE : Machine learning and deep learning are both subfields of artificial intelligence, but they differ in their approach and complexity. \n",
      "\n",
      "Machine learning is a broader term that encompasses various techniques and algorithms that enable computers to learn from data and make predictions or decisions. It involves training a model on a dataset and using that trained model to make predictions on new data. Machine learning algorithms can be categorized into three types: supervised learning, unsupervised learning, and reinforcement learning. \n",
      "\n",
      "Deep learning, on the other hand, is a specific subset of machine learning that focuses on artificial neural networks, which are inspired by the structure and function of the human brain. Deep learning models are composed of multiple layers of interconnected nodes, called neurons, that process and transform data. These models are capable of automatically learning hierarchical representations of data, which allows them to extract complex features and patterns. Deep learning has achieved remarkable success in tasks such as image and speech recognition, natural language processing, and autonomous driving.\n",
      "\n",
      "In summary, deep learning is a more advanced and complex form of machine learning that specifically utilizes artificial neural networks to learn and make predictions.\n",
      "\n",
      "\n",
      "####################################################################################################\n",
      "########################################## ITERATION : 4 ##########################################\n",
      "The following is a friendly conversation between a human and an AI. The AI is talkative and provides lots of specific details from its context. If the AI does not know the answer to a question, it truthfully says it does not know.\n",
      "\n",
      "Current conversation:\n",
      "Human: hello, I am zuu \n",
      "AI: Hello Zuu! How can I assist you today?\n",
      "Human: do you know about machine klearning ?\n",
      "AI: Yes, I am familiar with machine learning. It is a field of study that focuses on developing algorithms and models that allow computers to learn and make predictions or decisions without being explicitly programmed. Machine learning involves training a model on a dataset and using that trained model to make predictions or decisions on new, unseen data. It has applications in various domains such as image recognition, natural language processing, and recommendation systems. Is there anything specific you would like to know about machine learning?\n",
      "Human: how it diferes from deep learning ?\n",
      "AI: Machine learning and deep learning are both subfields of artificial intelligence, but they differ in their approach and complexity. \n",
      "\n",
      "Machine learning is a broader term that encompasses various techniques and algorithms that enable computers to learn from data and make predictions or decisions. It involves training a model on a dataset and using that trained model to make predictions on new data. Machine learning algorithms can be categorized into three types: supervised learning, unsupervised learning, and reinforcement learning. \n",
      "\n",
      "Deep learning, on the other hand, is a specific subset of machine learning that focuses on artificial neural networks, which are inspired by the structure and function of the human brain. Deep learning models are composed of multiple layers of interconnected nodes, called neurons, that process and transform data. These models are capable of automatically learning hierarchical representations of data, which allows them to extract complex features and patterns. Deep learning has achieved remarkable success in tasks such as image and speech recognition, natural language processing, and autonomous driving.\n",
      "\n",
      "In summary, deep learning is a more advanced and complex form of machine learning that specifically utilizes artificial neural networks to learn and make predictions.\n",
      "Human: Can you provide me a learning guidance ?\n",
      "AI:\n",
      "\n",
      "\n",
      "TOKENS : 423\n",
      "\n",
      "\n",
      "RESPONSE : Of course! I can provide you with a general learning guidance for machine learning. Here are some steps you can follow:\n",
      "\n",
      "1. Start with the basics: Familiarize yourself with the fundamental concepts of machine learning, such as supervised learning, unsupervised learning, and reinforcement learning. Understand how these techniques work and their applications.\n",
      "\n",
      "2. Learn programming: Machine learning often involves coding, so it's important to have a good understanding of a programming language such as Python or R. Learn the basics of programming and practice implementing algorithms and models.\n",
      "\n",
      "3. Study mathematics and statistics: Machine learning relies heavily on mathematical and statistical concepts. Brush up on your knowledge of linear algebra, calculus, probability, and statistics. This will help you understand the underlying principles of machine learning algorithms.\n",
      "\n",
      "4. Explore different algorithms: There are various machine learning algorithms, each with its own strengths and weaknesses. Dive into different algorithms such as linear regression, logistic regression, decision trees, random forests, support vector machines, and neural networks. Understand how they work and when to use them.\n",
      "\n",
      "5. Practice with datasets: Find datasets that are relevant to your interests or problem domain. Practice preprocessing the data, training models, and evaluating their performance. This hands-on experience will help you gain a deeper understanding of machine learning.\n",
      "\n",
      "6. Stay updated: Machine learning is a rapidly evolving field, so it's important to stay updated with the latest research and developments. Follow blogs, read research papers, and participate in online communities to keep up with the latest trends and techniques.\n",
      "\n",
      "7. Work on projects: Apply your knowledge by working on real-world projects. This will help you gain practical experience and showcase your skills to potential employers or collaborators.\n",
      "\n",
      "Remember, learning machine learning is a continuous process, so don't be afraid to experiment, make mistakes, and learn from them. Good luck on your learning journey!\n",
      "\n",
      "\n",
      "####################################################################################################\n",
      "########################################## ITERATION : 5 ##########################################\n",
      "The following is a friendly conversation between a human and an AI. The AI is talkative and provides lots of specific details from its context. If the AI does not know the answer to a question, it truthfully says it does not know.\n",
      "\n",
      "Current conversation:\n",
      "Human: hello, I am zuu \n",
      "AI: Hello Zuu! How can I assist you today?\n",
      "Human: do you know about machine klearning ?\n",
      "AI: Yes, I am familiar with machine learning. It is a field of study that focuses on developing algorithms and models that allow computers to learn and make predictions or decisions without being explicitly programmed. Machine learning involves training a model on a dataset and using that trained model to make predictions or decisions on new, unseen data. It has applications in various domains such as image recognition, natural language processing, and recommendation systems. Is there anything specific you would like to know about machine learning?\n",
      "Human: how it diferes from deep learning ?\n",
      "AI: Machine learning and deep learning are both subfields of artificial intelligence, but they differ in their approach and complexity. \n",
      "\n",
      "Machine learning is a broader term that encompasses various techniques and algorithms that enable computers to learn from data and make predictions or decisions. It involves training a model on a dataset and using that trained model to make predictions on new data. Machine learning algorithms can be categorized into three types: supervised learning, unsupervised learning, and reinforcement learning. \n",
      "\n",
      "Deep learning, on the other hand, is a specific subset of machine learning that focuses on artificial neural networks, which are inspired by the structure and function of the human brain. Deep learning models are composed of multiple layers of interconnected nodes, called neurons, that process and transform data. These models are capable of automatically learning hierarchical representations of data, which allows them to extract complex features and patterns. Deep learning has achieved remarkable success in tasks such as image and speech recognition, natural language processing, and autonomous driving.\n",
      "\n",
      "In summary, deep learning is a more advanced and complex form of machine learning that specifically utilizes artificial neural networks to learn and make predictions.\n",
      "Human: Can you provide me a learning guidance ?\n",
      "AI: Of course! I can provide you with a general learning guidance for machine learning. Here are some steps you can follow:\n",
      "\n",
      "1. Start with the basics: Familiarize yourself with the fundamental concepts of machine learning, such as supervised learning, unsupervised learning, and reinforcement learning. Understand how these techniques work and their applications.\n",
      "\n",
      "2. Learn programming: Machine learning often involves coding, so it's important to have a good understanding of a programming language such as Python or R. Learn the basics of programming and practice implementing algorithms and models.\n",
      "\n",
      "3. Study mathematics and statistics: Machine learning relies heavily on mathematical and statistical concepts. Brush up on your knowledge of linear algebra, calculus, probability, and statistics. This will help you understand the underlying principles of machine learning algorithms.\n",
      "\n",
      "4. Explore different algorithms: There are various machine learning algorithms, each with its own strengths and weaknesses. Dive into different algorithms such as linear regression, logistic regression, decision trees, random forests, support vector machines, and neural networks. Understand how they work and when to use them.\n",
      "\n",
      "5. Practice with datasets: Find datasets that are relevant to your interests or problem domain. Practice preprocessing the data, training models, and evaluating their performance. This hands-on experience will help you gain a deeper understanding of machine learning.\n",
      "\n",
      "6. Stay updated: Machine learning is a rapidly evolving field, so it's important to stay updated with the latest research and developments. Follow blogs, read research papers, and participate in online communities to keep up with the latest trends and techniques.\n",
      "\n",
      "7. Work on projects: Apply your knowledge by working on real-world projects. This will help you gain practical experience and showcase your skills to potential employers or collaborators.\n",
      "\n",
      "Remember, learning machine learning is a continuous process, so don't be afraid to experiment, make mistakes, and learn from them. Good luck on your learning journey!\n",
      "Human: thank you\n",
      "AI:\n",
      "\n",
      "\n",
      "TOKENS : 802\n",
      "\n",
      "\n",
      "RESPONSE : You're welcome! If you have any more questions or need further assistance, feel free to ask. Happy learning!\n",
      "\n",
      "\n"
     ]
    }
   ],
   "source": [
    "iteration = 1\n",
    "\n",
    "while True:\n",
    "    query = input(\"Enter your query : \")\n",
    "    if query == 'exit':\n",
    "        break \n",
    "\n",
    "    else:\n",
    "        template = conversation.prompt.template\n",
    "        buffer = conversation.memory.buffer\n",
    "        print(\"####################################################################################################\") \n",
    "        print(\"########################################## ITERATION : {} ##########################################\".format(iteration))\n",
    "        print(template.format(history=buffer, input=query))\n",
    "        print('\\n')\n",
    "        tokens = len(enc.encode(template.format(history=buffer, input=query)))\n",
    "        print(f\"TOKENS : {tokens}\")\n",
    "        print('\\n')\n",
    "        response = conversation.predict(input=query)\n",
    "        print(f\"RESPONSE : {response}\")\n",
    "        print('\\n')\n",
    "\n",
    "        iteration += 1"
   ]
  },
  {
   "cell_type": "markdown",
   "metadata": {},
   "source": [
    "#### you can see it's stacking the conversation in the prompt"
   ]
  },
  {
   "cell_type": "code",
   "execution_count": 42,
   "metadata": {},
   "outputs": [
    {
     "name": "stdout",
     "output_type": "stream",
     "text": [
      "The following is a friendly conversation between a human and an AI. The AI is talkative and provides lots of specific details from its context. If the AI does not know the answer to a question, it truthfully says it does not know.\n",
      "\n",
      "Current conversation:\n",
      "Human: hello, I am zuu \n",
      "AI: Hello Zuu! How can I assist you today?\n",
      "Human: do you know about machine klearning ?\n",
      "AI: Yes, I am familiar with machine learning. It is a field of study that focuses on developing algorithms and models that allow computers to learn and make predictions or decisions without being explicitly programmed. Machine learning involves training a model on a dataset and using that trained model to make predictions or decisions on new, unseen data. It has applications in various domains such as image recognition, natural language processing, and recommendation systems. Is there anything specific you would like to know about machine learning?\n",
      "Human: how it diferes from deep learning ?\n",
      "AI: Machine learning and deep learning are both subfields of artificial intelligence, but they differ in their approach and complexity. \n",
      "\n",
      "Machine learning is a broader term that encompasses various techniques and algorithms that enable computers to learn from data and make predictions or decisions. It involves training a model on a dataset and using that trained model to make predictions on new data. Machine learning algorithms can be categorized into three types: supervised learning, unsupervised learning, and reinforcement learning. \n",
      "\n",
      "Deep learning, on the other hand, is a specific subset of machine learning that focuses on artificial neural networks, which are inspired by the structure and function of the human brain. Deep learning models are composed of multiple layers of interconnected nodes, called neurons, that process and transform data. These models are capable of automatically learning hierarchical representations of data, which allows them to extract complex features and patterns. Deep learning has achieved remarkable success in tasks such as image and speech recognition, natural language processing, and autonomous driving.\n",
      "\n",
      "In summary, deep learning is a more advanced and complex form of machine learning that specifically utilizes artificial neural networks to learn and make predictions.\n",
      "Human: Can you provide me a learning guidance ?\n",
      "AI: Of course! I can provide you with a general learning guidance for machine learning. Here are some steps you can follow:\n",
      "\n",
      "1. Start with the basics: Familiarize yourself with the fundamental concepts of machine learning, such as supervised learning, unsupervised learning, and reinforcement learning. Understand how these techniques work and their applications.\n",
      "\n",
      "2. Learn programming: Machine learning often involves coding, so it's important to have a good understanding of a programming language such as Python or R. Learn the basics of programming and practice implementing algorithms and models.\n",
      "\n",
      "3. Study mathematics and statistics: Machine learning relies heavily on mathematical and statistical concepts. Brush up on your knowledge of linear algebra, calculus, probability, and statistics. This will help you understand the underlying principles of machine learning algorithms.\n",
      "\n",
      "4. Explore different algorithms: There are various machine learning algorithms, each with its own strengths and weaknesses. Dive into different algorithms such as linear regression, logistic regression, decision trees, random forests, support vector machines, and neural networks. Understand how they work and when to use them.\n",
      "\n",
      "5. Practice with datasets: Find datasets that are relevant to your interests or problem domain. Practice preprocessing the data, training models, and evaluating their performance. This hands-on experience will help you gain a deeper understanding of machine learning.\n",
      "\n",
      "6. Stay updated: Machine learning is a rapidly evolving field, so it's important to stay updated with the latest research and developments. Follow blogs, read research papers, and participate in online communities to keep up with the latest trends and techniques.\n",
      "\n",
      "7. Work on projects: Apply your knowledge by working on real-world projects. This will help you gain practical experience and showcase your skills to potential employers or collaborators.\n",
      "\n",
      "Remember, learning machine learning is a continuous process, so don't be afraid to experiment, make mistakes, and learn from them. Good luck on your learning journey!\n",
      "Human: thank you\n",
      "AI: You're welcome! If you have any more questions or need further assistance, feel free to ask. Happy learning!\n",
      "Human: exit\n",
      "AI:\n"
     ]
    }
   ],
   "source": [
    "template = conversation.prompt.template\n",
    "buffer = conversation.memory.buffer\n",
    "print(template.format(history=buffer, input=query))"
   ]
  },
  {
   "cell_type": "markdown",
   "metadata": {},
   "source": [
    "## 2. ConversationSummaryMemory"
   ]
  },
  {
   "cell_type": "code",
   "execution_count": 45,
   "metadata": {},
   "outputs": [],
   "source": [
    "sumary_memory = ConversationSummaryMemory(llm=client)\n",
    "conversation = ConversationChain(\n",
    "                                llm=client,\n",
    "                                memory=sumary_memory,\n",
    "                                verbose=False\n",
    "                                )"
   ]
  },
  {
   "cell_type": "code",
   "execution_count": 46,
   "metadata": {},
   "outputs": [
    {
     "name": "stdout",
     "output_type": "stream",
     "text": [
      "####################################################################################################\n",
      "########################################## ITERATION : 1 ##########################################\n",
      "The following is a friendly conversation between a human and an AI. The AI is talkative and provides lots of specific details from its context. If the AI does not know the answer to a question, it truthfully says it does not know.\n",
      "\n",
      "Current conversation:\n",
      "\n",
      "Human: Hi, I am isuru !\n",
      "AI:\n",
      "\n",
      "\n",
      "TOKENS : 63\n",
      "\n",
      "\n",
      "RESPONSE : Hello Isuru! How can I assist you today?\n",
      "\n",
      "\n",
      "####################################################################################################\n",
      "########################################## ITERATION : 2 ##########################################\n",
      "The following is a friendly conversation between a human and an AI. The AI is talkative and provides lots of specific details from its context. If the AI does not know the answer to a question, it truthfully says it does not know.\n",
      "\n",
      "Current conversation:\n",
      "The human introduces themselves as Isuru and the AI greets them and asks how it can assist them.\n",
      "Human: Do you know about machine learning ?\n",
      "AI:\n",
      "\n",
      "\n",
      "TOKENS : 84\n",
      "\n",
      "\n",
      "RESPONSE : Yes, I am familiar with machine learning. It is a field of study that focuses on developing algorithms and models that enable computers to learn and make predictions or decisions without being explicitly programmed. Machine learning algorithms can analyze and interpret large amounts of data to identify patterns and make accurate predictions or decisions. It is widely used in various applications such as image recognition, natural language processing, and recommendation systems. Is there anything specific you would like to know about machine learning?\n",
      "\n",
      "\n",
      "####################################################################################################\n",
      "########################################## ITERATION : 3 ##########################################\n",
      "The following is a friendly conversation between a human and an AI. The AI is talkative and provides lots of specific details from its context. If the AI does not know the answer to a question, it truthfully says it does not know.\n",
      "\n",
      "Current conversation:\n",
      "The human introduces themselves as Isuru and the AI greets them and asks how it can assist them. The human asks if the AI knows about machine learning. The AI responds that it is familiar with machine learning, explaining that it is a field of study focused on developing algorithms and models that enable computers to learn and make predictions or decisions without explicit programming. Machine learning is used in various applications such as image recognition, natural language processing, and recommendation systems. The AI asks if there is anything specific the human would like to know about machine learning.\n",
      "Human: then what is deep learning ?\n",
      "AI:\n",
      "\n",
      "\n",
      "TOKENS : 171\n",
      "\n",
      "\n",
      "RESPONSE : Deep learning is a subfield of machine learning that focuses on artificial neural networks with multiple layers. These neural networks are designed to mimic the structure and function of the human brain, allowing them to learn and make complex decisions. Deep learning algorithms are capable of automatically learning hierarchical representations of data, which enables them to extract meaningful features and patterns from large amounts of data. This makes deep learning particularly effective in tasks such as image and speech recognition, natural language processing, and autonomous driving. Is there anything else you would like to know about deep learning?\n",
      "\n",
      "\n"
     ]
    }
   ],
   "source": [
    "iteration = 1\n",
    "\n",
    "while True:\n",
    "    query = input(\"Enter your query : \")\n",
    "    if query == 'exit':\n",
    "        break \n",
    "\n",
    "    else:\n",
    "        template = conversation.prompt.template\n",
    "        buffer = conversation.memory.buffer\n",
    "        print(\"####################################################################################################\") \n",
    "        print(\"########################################## ITERATION : {} ##########################################\".format(iteration))\n",
    "        print(template.format(history=buffer, input=query))\n",
    "        print('\\n')\n",
    "        tokens = len(enc.encode(template.format(history=buffer, input=query)))\n",
    "        print(f\"TOKENS : {tokens}\")\n",
    "        print('\\n')\n",
    "        response = conversation.predict(input=query)\n",
    "        print(f\"RESPONSE : {response}\")\n",
    "        print('\\n')\n",
    "\n",
    "        iteration += 1"
   ]
  },
  {
   "cell_type": "markdown",
   "metadata": {},
   "source": [
    "## 3. ConversationBufferWindowMemory"
   ]
  },
  {
   "cell_type": "code",
   "execution_count": 47,
   "metadata": {},
   "outputs": [],
   "source": [
    "window_memory = ConversationBufferWindowMemory(k=2)\n",
    "conversation = ConversationChain(\n",
    "                                llm=client,\n",
    "                                memory=window_memory,\n",
    "                                verbose=False\n",
    "                                )"
   ]
  },
  {
   "cell_type": "code",
   "execution_count": 48,
   "metadata": {},
   "outputs": [
    {
     "name": "stdout",
     "output_type": "stream",
     "text": [
      "The following is a friendly conversation between a human and an AI. The AI is talkative and provides lots of specific details from its context. If the AI does not know the answer to a question, it truthfully says it does not know.\n",
      "\n",
      "Current conversation:\n",
      "\n",
      "Human: exit\n",
      "AI:\n"
     ]
    }
   ],
   "source": [
    "template = conversation.prompt.template\n",
    "buffer = conversation.memory.buffer\n",
    "print(template.format(history=buffer, input=query))"
   ]
  },
  {
   "cell_type": "code",
   "execution_count": 49,
   "metadata": {},
   "outputs": [
    {
     "name": "stdout",
     "output_type": "stream",
     "text": [
      "####################################################################################################\n",
      "########################################## ITERATION : 1 ##########################################\n",
      "The following is a friendly conversation between a human and an AI. The AI is talkative and provides lots of specific details from its context. If the AI does not know the answer to a question, it truthfully says it does not know.\n",
      "\n",
      "Current conversation:\n",
      "\n",
      "Human: hi\n",
      "AI:\n",
      "\n",
      "\n",
      "TOKENS : 58\n",
      "\n",
      "\n",
      "RESPONSE : Hello! How can I assist you today?\n",
      "\n",
      "\n",
      "####################################################################################################\n",
      "########################################## ITERATION : 2 ##########################################\n",
      "The following is a friendly conversation between a human and an AI. The AI is talkative and provides lots of specific details from its context. If the AI does not know the answer to a question, it truthfully says it does not know.\n",
      "\n",
      "Current conversation:\n",
      "Human: hi\n",
      "AI: Hello! How can I assist you today?\n",
      "Human: do you know about ML ?\n",
      "AI:\n",
      "\n",
      "\n",
      "TOKENS : 77\n",
      "\n",
      "\n",
      "RESPONSE : Yes, I am familiar with ML, which stands for Machine Learning. It is a field of study that focuses on developing algorithms and models that allow computers to learn and make predictions or decisions without being explicitly programmed. ML is used in various applications such as image recognition, natural language processing, and recommendation systems. Is there anything specific you would like to know about ML?\n",
      "\n",
      "\n",
      "####################################################################################################\n",
      "########################################## ITERATION : 3 ##########################################\n",
      "The following is a friendly conversation between a human and an AI. The AI is talkative and provides lots of specific details from its context. If the AI does not know the answer to a question, it truthfully says it does not know.\n",
      "\n",
      "Current conversation:\n",
      "Human: hi\n",
      "AI: Hello! How can I assist you today?\n",
      "Human: do you know about ML ?\n",
      "AI: Yes, I am familiar with ML, which stands for Machine Learning. It is a field of study that focuses on developing algorithms and models that allow computers to learn and make predictions or decisions without being explicitly programmed. ML is used in various applications such as image recognition, natural language processing, and recommendation systems. Is there anything specific you would like to know about ML?\n",
      "Human: then what is deep learning ?\n",
      "AI:\n",
      "\n",
      "\n",
      "TOKENS : 160\n",
      "\n",
      "\n",
      "RESPONSE : Deep learning is a subfield of machine learning that focuses on artificial neural networks with multiple layers. These neural networks are designed to mimic the structure and function of the human brain, allowing them to learn and make complex decisions. Deep learning algorithms are capable of automatically learning hierarchical representations of data, which enables them to extract meaningful features and patterns from large amounts of data. This makes deep learning particularly effective in tasks such as image and speech recognition, natural language processing, and autonomous driving.\n",
      "\n",
      "\n",
      "####################################################################################################\n",
      "########################################## ITERATION : 4 ##########################################\n",
      "The following is a friendly conversation between a human and an AI. The AI is talkative and provides lots of specific details from its context. If the AI does not know the answer to a question, it truthfully says it does not know.\n",
      "\n",
      "Current conversation:\n",
      "Human: do you know about ML ?\n",
      "AI: Yes, I am familiar with ML, which stands for Machine Learning. It is a field of study that focuses on developing algorithms and models that allow computers to learn and make predictions or decisions without being explicitly programmed. ML is used in various applications such as image recognition, natural language processing, and recommendation systems. Is there anything specific you would like to know about ML?\n",
      "Human: then what is deep learning ?\n",
      "AI: Deep learning is a subfield of machine learning that focuses on artificial neural networks with multiple layers. These neural networks are designed to mimic the structure and function of the human brain, allowing them to learn and make complex decisions. Deep learning algorithms are capable of automatically learning hierarchical representations of data, which enables them to extract meaningful features and patterns from large amounts of data. This makes deep learning particularly effective in tasks such as image and speech recognition, natural language processing, and autonomous driving.\n",
      "Human: then what is AI ?\n",
      "AI:\n",
      "\n",
      "\n",
      "TOKENS : 249\n",
      "\n",
      "\n",
      "RESPONSE : AI, or Artificial Intelligence, is a broad field that encompasses the development of intelligent machines that can perform tasks that typically require human intelligence. AI aims to create systems that can perceive their environment, reason and make decisions, and learn from experience. It involves various subfields such as machine learning, natural language processing, computer vision, and robotics. AI can be categorized into two types: narrow AI, which is designed to perform specific tasks, and general AI, which aims to possess the same level of intelligence as a human being and can perform any intellectual task that a human can do.\n",
      "\n",
      "\n",
      "####################################################################################################\n",
      "########################################## ITERATION : 5 ##########################################\n",
      "The following is a friendly conversation between a human and an AI. The AI is talkative and provides lots of specific details from its context. If the AI does not know the answer to a question, it truthfully says it does not know.\n",
      "\n",
      "Current conversation:\n",
      "Human: then what is deep learning ?\n",
      "AI: Deep learning is a subfield of machine learning that focuses on artificial neural networks with multiple layers. These neural networks are designed to mimic the structure and function of the human brain, allowing them to learn and make complex decisions. Deep learning algorithms are capable of automatically learning hierarchical representations of data, which enables them to extract meaningful features and patterns from large amounts of data. This makes deep learning particularly effective in tasks such as image and speech recognition, natural language processing, and autonomous driving.\n",
      "Human: then what is AI ?\n",
      "AI: AI, or Artificial Intelligence, is a broad field that encompasses the development of intelligent machines that can perform tasks that typically require human intelligence. AI aims to create systems that can perceive their environment, reason and make decisions, and learn from experience. It involves various subfields such as machine learning, natural language processing, computer vision, and robotics. AI can be categorized into two types: narrow AI, which is designed to perform specific tasks, and general AI, which aims to possess the same level of intelligence as a human being and can perform any intellectual task that a human can do.\n",
      "Human: thank you\n",
      "AI:\n",
      "\n",
      "\n",
      "TOKENS : 289\n",
      "\n",
      "\n",
      "RESPONSE : You're welcome! If you have any more questions, feel free to ask.\n",
      "\n",
      "\n"
     ]
    }
   ],
   "source": [
    "iteration = 1\n",
    "\n",
    "while True:\n",
    "    query = input(\"Enter your query : \")\n",
    "    if query == 'exit':\n",
    "        break \n",
    "\n",
    "    else:\n",
    "        template = conversation.prompt.template\n",
    "        buffer = conversation.memory.buffer\n",
    "        print(\"####################################################################################################\") \n",
    "        print(\"########################################## ITERATION : {} ##########################################\".format(iteration))\n",
    "        print(template.format(history=buffer, input=query))\n",
    "        print('\\n')\n",
    "        tokens = len(enc.encode(template.format(history=buffer, input=query)))\n",
    "        print(f\"TOKENS : {tokens}\")\n",
    "        print('\\n')\n",
    "        response = conversation.predict(input=query)\n",
    "        print(f\"RESPONSE : {response}\")\n",
    "        print('\\n')\n",
    "\n",
    "        iteration += 1"
   ]
  },
  {
   "cell_type": "markdown",
   "metadata": {},
   "source": [
    "## 4. ConversationSummaryBufferMemory"
   ]
  },
  {
   "cell_type": "code",
   "execution_count": 18,
   "metadata": {},
   "outputs": [],
   "source": [
    "summary_buffer_memory = ConversationSummaryBufferMemory(\n",
    "                                                        llm=client,\n",
    "                                                        max_token_limit=50        \n",
    "                                                        )\n",
    "conversation = ConversationChain(\n",
    "                                llm=client, \n",
    "                                verbose=False, \n",
    "                                memory=summary_buffer_memory\n",
    "                                )"
   ]
  },
  {
   "cell_type": "code",
   "execution_count": 19,
   "metadata": {},
   "outputs": [
    {
     "name": "stdout",
     "output_type": "stream",
     "text": [
      "####################################################################################################\n",
      "########################################## ITERATION : 1 ##########################################\n",
      "The following is a friendly conversation between a human and an AI. The AI is talkative and provides lots of specific details from its context. If the AI does not know the answer to a question, it truthfully says it does not know.\n",
      "\n",
      "Current conversation:\n",
      "\n",
      "Human: do you know about machine learning ?\n",
      "AI:\n",
      "\n",
      "\n",
      "TOKENS : 63\n",
      "\n",
      "\n",
      "RESPONSE : Yes, I am familiar with machine learning. It is a subfield of artificial intelligence that focuses on the development of algorithms and models that allow computers to learn and make predictions or decisions without being explicitly programmed. Machine learning involves training a model on a large dataset and using statistical techniques to enable the model to learn patterns and relationships within the data. This allows the model to make accurate predictions or decisions on new, unseen data. Machine learning has applications in various fields such as image recognition, natural language processing, and recommendation systems.\n",
      "\n",
      "\n",
      "####################################################################################################\n",
      "########################################## ITERATION : 2 ##########################################\n",
      "The following is a friendly conversation between a human and an AI. The AI is talkative and provides lots of specific details from its context. If the AI does not know the answer to a question, it truthfully says it does not know.\n",
      "\n",
      "Current conversation:\n",
      "The human asks the AI if it knows about machine learning. The AI responds by explaining that machine learning is a subfield of artificial intelligence that focuses on developing algorithms and models that allow computers to learn and make predictions or decisions without explicit programming. It involves training models on large datasets and using statistical techniques to enable them to learn patterns and relationships within the data. Machine learning has applications in various fields such as image recognition, natural language processing, and recommendation systems.\n",
      "Human: how it differs from deep learning ?\n",
      "AI:\n",
      "\n",
      "\n",
      "TOKENS : 154\n",
      "\n",
      "\n",
      "RESPONSE : Deep learning is a subset of machine learning that specifically focuses on training artificial neural networks with multiple layers to learn and make predictions or decisions. It is inspired by the structure and function of the human brain. Deep learning algorithms are designed to automatically learn hierarchical representations of data, which allows them to extract complex features and patterns. Unlike traditional machine learning algorithms, deep learning models can learn directly from raw data, without the need for manual feature engineering. Deep learning has been particularly successful in tasks such as image and speech recognition, natural language processing, and autonomous driving.\n",
      "\n",
      "\n",
      "####################################################################################################\n",
      "########################################## ITERATION : 3 ##########################################\n",
      "The following is a friendly conversation between a human and an AI. The AI is talkative and provides lots of specific details from its context. If the AI does not know the answer to a question, it truthfully says it does not know.\n",
      "\n",
      "Current conversation:\n",
      "The human asks the AI if it knows about machine learning. The AI responds by explaining that machine learning is a subfield of artificial intelligence that focuses on developing algorithms and models that allow computers to learn and make predictions or decisions without explicit programming. It involves training models on large datasets and using statistical techniques to enable them to learn patterns and relationships within the data. Machine learning has applications in various fields such as image recognition, natural language processing, and recommendation systems. The human then asks how it differs from deep learning. The AI explains that deep learning is a subset of machine learning that specifically focuses on training artificial neural networks with multiple layers to learn and make predictions or decisions. It is inspired by the structure and function of the human brain. Deep learning algorithms are designed to automatically learn hierarchical representations of data, which allows them to extract complex features and patterns. Unlike traditional machine learning algorithms, deep learning models can learn directly from raw data, without the need for manual feature engineering. Deep learning has been particularly successful in tasks such as image and speech recognition, natural language processing, and autonomous driving.\n",
      "Human: share me a learning path for ML ?\n",
      "AI:\n",
      "\n",
      "\n",
      "TOKENS : 280\n",
      "\n",
      "\n",
      "RESPONSE : Sure! Here's a suggested learning path for machine learning:\n",
      "\n",
      "1. Start with the basics of programming: Familiarize yourself with a programming language like Python, as it is widely used in the machine learning community.\n",
      "\n",
      "2. Learn the fundamentals of mathematics and statistics: Understanding concepts like linear algebra, calculus, and probability will provide a strong foundation for understanding machine learning algorithms.\n",
      "\n",
      "3. Dive into machine learning theory: Study the different types of machine learning algorithms, such as supervised learning (classification and regression), unsupervised learning (clustering and dimensionality reduction), and reinforcement learning.\n",
      "\n",
      "4. Get hands-on experience with machine learning libraries: Start using popular machine learning libraries like scikit-learn and TensorFlow. These libraries provide pre-built algorithms and tools to implement machine learning models.\n",
      "\n",
      "5. Practice with real-world datasets: Work on projects that involve real-world datasets to gain practical experience in data preprocessing, feature engineering, model training, and evaluation.\n",
      "\n",
      "6. Explore advanced topics: Once you have a solid understanding of the basics, you can delve into more advanced topics like deep learning, natural language processing, and computer vision.\n",
      "\n",
      "7. Stay updated with the latest research and developments: Follow blogs, research papers, and online communities to stay informed about the latest advancements in machine learning.\n",
      "\n",
      "Remember, learning machine learning is an ongoing process, so continuous practice and exploration are key to mastering this field. Good luck on your learning journey!\n",
      "\n",
      "\n"
     ]
    }
   ],
   "source": [
    "iteration = 1\n",
    "\n",
    "while True:\n",
    "    query = input(\"Enter your query : \")\n",
    "    if query == 'exit':\n",
    "        break \n",
    "\n",
    "    else:\n",
    "        template = conversation.prompt.template\n",
    "        buffer = conversation.memory.moving_summary_buffer\n",
    "        print(\"####################################################################################################\") \n",
    "        print(\"########################################## ITERATION : {} ##########################################\".format(iteration))\n",
    "        print(template.format(history=buffer, input=query))\n",
    "        print('\\n')\n",
    "        tokens = len(enc.encode(template.format(history=buffer, input=query)))\n",
    "        print(f\"TOKENS : {tokens}\")\n",
    "        print('\\n')\n",
    "        response = conversation.predict(input=query)\n",
    "        print(f\"RESPONSE : {response}\")\n",
    "        print('\\n')\n",
    "\n",
    "        iteration += 1"
   ]
  },
  {
   "cell_type": "markdown",
   "metadata": {},
   "source": [
    "## 5. Conversation Knowledge Graph Memory"
   ]
  },
  {
   "cell_type": "code",
   "execution_count": 29,
   "metadata": {},
   "outputs": [],
   "source": [
    "with open('/Users/1zuu/Desktop/LLM RESEARCH/LLMPro/cadentials.yaml') as f:\n",
    "    credentials = yaml.load(f, Loader=yaml.FullLoader)\n",
    "\n",
    "os.environ['AD_OPENAI_API_KEY'] = credentials['AD_OPENAI_API_KEY']"
   ]
  },
  {
   "cell_type": "code",
   "execution_count": 41,
   "metadata": {},
   "outputs": [],
   "source": [
    "client = AzureChatOpenAI(\n",
    "                    deployment_name=credentials['AD_DEPLOYMENT_ID'],\n",
    "                    model=credentials['AD_ENGINE'],\n",
    "                    api_key=credentials['AD_OPENAI_API_KEY'],\n",
    "                    api_version=credentials['AD_OPENAI_API_VERSION'],\n",
    "                    azure_endpoint=credentials['AD_OPENAI_API_BASE']\n",
    "                    )"
   ]
  },
  {
   "cell_type": "code",
   "execution_count": 43,
   "metadata": {},
   "outputs": [],
   "source": [
    "template = \"\"\"The following is a friendly conversation between a human and an AI. The AI is talkative and provides lots of specific details from its context. \n",
    "If the AI does not know the answer to a question, it truthfully says it does not know. The AI ONLY uses information contained in the \"Relevant Information\" section and does not hallucinate.\n",
    "\n",
    "Relevant Information:\n",
    "\n",
    "{history}\n",
    "\n",
    "Conversation:\n",
    "Human: {input}\n",
    "AI:\"\"\"\n",
    "prompt = PromptTemplate(\n",
    "    input_variables=[\"history\", \"input\"], template=template\n",
    ")\n",
    "\n",
    "conversation_with_kg = ConversationChain(\n",
    "                                        llm=client, \n",
    "                                        verbose=True, \n",
    "                                        prompt=prompt,\n",
    "                                        memory=ConversationKGMemory(llm=client)\n",
    "                                    )"
   ]
  },
  {
   "cell_type": "code",
   "execution_count": 44,
   "metadata": {},
   "outputs": [
    {
     "name": "stdout",
     "output_type": "stream",
     "text": [
      "####################################################################################################\n",
      "########################################## ITERATION : 1 ##########################################\n",
      "\n",
      "\n",
      "\n",
      "\n",
      "\u001b[1m> Entering new ConversationChain chain...\u001b[0m\n",
      "Prompt after formatting:\n",
      "\u001b[32;1m\u001b[1;3mThe following is a friendly conversation between a human and an AI. The AI is talkative and provides lots of specific details from its context. \n",
      "If the AI does not know the answer to a question, it truthfully says it does not know. The AI ONLY uses information contained in the \"Relevant Information\" section and does not hallucinate.\n",
      "\n",
      "Relevant Information:\n",
      "\n",
      "\n",
      "\n",
      "Conversation:\n",
      "Human: hi\n",
      "AI:\u001b[0m\n",
      "\n",
      "\u001b[1m> Finished chain.\u001b[0m\n",
      "RESPONSE : Hello! It's nice to meet you. How can I assist you today?\n",
      "\n",
      "\n",
      "####################################################################################################\n",
      "########################################## ITERATION : 2 ##########################################\n",
      "\n",
      "\n",
      "\n",
      "\n",
      "\u001b[1m> Entering new ConversationChain chain...\u001b[0m\n",
      "Prompt after formatting:\n",
      "\u001b[32;1m\u001b[1;3mThe following is a friendly conversation between a human and an AI. The AI is talkative and provides lots of specific details from its context. \n",
      "If the AI does not know the answer to a question, it truthfully says it does not know. The AI ONLY uses information contained in the \"Relevant Information\" section and does not hallucinate.\n",
      "\n",
      "Relevant Information:\n",
      "\n",
      "\n",
      "\n",
      "Conversation:\n",
      "Human: I am isuru. I like machine learning\n",
      "AI:\u001b[0m\n",
      "\n",
      "\u001b[1m> Finished chain.\u001b[0m\n",
      "RESPONSE : Hello Isuru! It's great to meet you. As an AI, I have a lot of experience with machine learning. Would you like to discuss any specific topics within the field?\n",
      "\n",
      "\n",
      "####################################################################################################\n",
      "########################################## ITERATION : 3 ##########################################\n",
      "\n",
      "\n",
      "\n",
      "\n",
      "\u001b[1m> Entering new ConversationChain chain...\u001b[0m\n",
      "Prompt after formatting:\n",
      "\u001b[32;1m\u001b[1;3mThe following is a friendly conversation between a human and an AI. The AI is talkative and provides lots of specific details from its context. \n",
      "If the AI does not know the answer to a question, it truthfully says it does not know. The AI ONLY uses information contained in the \"Relevant Information\" section and does not hallucinate.\n",
      "\n",
      "Relevant Information:\n",
      "\n",
      "\n",
      "\n",
      "Conversation:\n",
      "Human: do you know about machine learning ?\n",
      "AI:\u001b[0m\n",
      "\n",
      "\u001b[1m> Finished chain.\u001b[0m\n",
      "RESPONSE : Yes, I do know about machine learning! It's a way of teaching computers to learn from data and improve their performance on specific tasks over time. Machine learning algorithms can be supervised, unsupervised, or semi-supervised, and they are used in a wide range of applications, from image recognition and natural language processing to fraud detection and autonomous vehicles. Some popular machine learning techniques include decision trees, neural networks, support vector machines, and k-nearest neighbors. Would you like me to provide more information on any of these topics?\n",
      "\n",
      "\n",
      "####################################################################################################\n",
      "########################################## ITERATION : 4 ##########################################\n",
      "\n",
      "\n",
      "\n",
      "\n",
      "\u001b[1m> Entering new ConversationChain chain...\u001b[0m\n",
      "Prompt after formatting:\n",
      "\u001b[32;1m\u001b[1;3mThe following is a friendly conversation between a human and an AI. The AI is talkative and provides lots of specific details from its context. \n",
      "If the AI does not know the answer to a question, it truthfully says it does not know. The AI ONLY uses information contained in the \"Relevant Information\" section and does not hallucinate.\n",
      "\n",
      "Relevant Information:\n",
      "\n",
      "\n",
      "\n",
      "Conversation:\n",
      "Human: how it differes from deep learning ?\n",
      "AI:\u001b[0m\n",
      "\n",
      "\u001b[1m> Finished chain.\u001b[0m\n",
      "RESPONSE : Deep learning is a subset of machine learning that uses neural networks with multiple layers to learn and make decisions based on large amounts of data. Machine learning, on the other hand, encompasses a broader range of techniques and algorithms that enable machines to learn from data and make predictions or decisions without being explicitly programmed. While deep learning is a powerful tool for tasks like image recognition and natural language processing, machine learning can be used for a wider range of applications, including anomaly detection, clustering, and predictive maintenance.\n",
      "\n",
      "\n"
     ]
    }
   ],
   "source": [
    "iteration = 1\n",
    "\n",
    "while True:\n",
    "    query = input(\"Enter your query : \")\n",
    "    if query == 'exit':\n",
    "        break \n",
    "\n",
    "    else:\n",
    "        # template = conversation.prompt.template\n",
    "        # buffer = conversation.memory.moving_summary_buffer\n",
    "        print(\"####################################################################################################\") \n",
    "        print(\"########################################## ITERATION : {} ##########################################\".format(iteration))\n",
    "        # print(template.format(history=buffer, input=query))\n",
    "        # print('\\n')\n",
    "        # tokens = len(enc.encode(template.format(history=buffer, input=query)))\n",
    "        # print(f\"TOKENS : {tokens}\")\n",
    "        print('\\n')\n",
    "        response = conversation_with_kg.predict(input=query)\n",
    "        print(f\"RESPONSE : {response}\")\n",
    "        print('\\n')\n",
    "\n",
    "        iteration += 1"
   ]
  },
  {
   "cell_type": "code",
   "execution_count": 45,
   "metadata": {},
   "outputs": [
    {
     "data": {
      "text/plain": [
       "[('Isuru', 'a person', 'is'),\n",
       " ('Isuru', 'machine learning', 'likes'),\n",
       " ('Machine learning', 'deep learning', 'is a subset of'),\n",
       " ('Machine learning', 'a wider range of applications', 'can be used for'),\n",
       " ('Machine learning',\n",
       "  'a broader range of techniques and algorithms',\n",
       "  'encompasses'),\n",
       " ('Deep learning', 'neural networks with multiple layers', 'uses'),\n",
       " ('Deep learning',\n",
       "  'image recognition and natural language processing',\n",
       "  'is used for')]"
      ]
     },
     "execution_count": 45,
     "metadata": {},
     "output_type": "execute_result"
    }
   ],
   "source": [
    "conversation_with_kg.memory.kg.get_triples()"
   ]
  },
  {
   "cell_type": "code",
   "execution_count": null,
   "metadata": {},
   "outputs": [],
   "source": []
  }
 ],
 "metadata": {
  "kernelspec": {
   "display_name": "Python 3",
   "language": "python",
   "name": "python3"
  },
  "language_info": {
   "codemirror_mode": {
    "name": "ipython",
    "version": 3
   },
   "file_extension": ".py",
   "mimetype": "text/x-python",
   "name": "python",
   "nbconvert_exporter": "python",
   "pygments_lexer": "ipython3",
   "version": "3.9.18"
  },
  "orig_nbformat": 4
 },
 "nbformat": 4,
 "nbformat_minor": 2
}
