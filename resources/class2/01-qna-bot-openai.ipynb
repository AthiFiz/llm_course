{
 "cells": [
  {
   "cell_type": "markdown",
   "metadata": {},
   "source": [
    "# Q/A Bot using only OpenAI\n",
    "\n",
    "## There are 2 types of Q/A bots:\n",
    "1. Retrieval based\n",
    "2. Generative "
   ]
  },
  {
   "cell_type": "markdown",
   "metadata": {},
   "source": [
    "## Retrieval based:\n",
    "- Use a specific context to answer for user query\n",
    "- Examples </br>\n",
    "     - `Sentiment Analysis` </br>\n",
    "     - `Machine Translation` </br>\n",
    "     - `Text Summarization`"
   ]
  },
  {
   "cell_type": "code",
   "execution_count": 1,
   "metadata": {},
   "outputs": [
    {
     "name": "stdout",
     "output_type": "stream",
     "text": [
      "Requirement already satisfied: openai in /Users/1zuu/miniforge3/envs/llamaindex/lib/python3.9/site-packages (1.3.4)\n",
      "Requirement already satisfied: pyyaml in /Users/1zuu/miniforge3/envs/llamaindex/lib/python3.9/site-packages (6.0.1)\n",
      "Requirement already satisfied: anyio<4,>=3.5.0 in /Users/1zuu/miniforge3/envs/llamaindex/lib/python3.9/site-packages (from openai) (3.7.1)\n",
      "Requirement already satisfied: distro<2,>=1.7.0 in /Users/1zuu/miniforge3/envs/llamaindex/lib/python3.9/site-packages (from openai) (1.8.0)\n",
      "Requirement already satisfied: httpx<1,>=0.23.0 in /Users/1zuu/miniforge3/envs/llamaindex/lib/python3.9/site-packages (from openai) (0.25.1)\n",
      "Requirement already satisfied: pydantic<3,>=1.9.0 in /Users/1zuu/miniforge3/envs/llamaindex/lib/python3.9/site-packages (from openai) (2.5.2)\n",
      "Requirement already satisfied: tqdm>4 in /Users/1zuu/miniforge3/envs/llamaindex/lib/python3.9/site-packages (from openai) (4.66.1)\n",
      "Requirement already satisfied: typing-extensions<5,>=4.5 in /Users/1zuu/miniforge3/envs/llamaindex/lib/python3.9/site-packages (from openai) (4.8.0)\n",
      "Requirement already satisfied: idna>=2.8 in /Users/1zuu/miniforge3/envs/llamaindex/lib/python3.9/site-packages (from anyio<4,>=3.5.0->openai) (3.4)\n",
      "Requirement already satisfied: sniffio>=1.1 in /Users/1zuu/miniforge3/envs/llamaindex/lib/python3.9/site-packages (from anyio<4,>=3.5.0->openai) (1.3.0)\n",
      "Requirement already satisfied: exceptiongroup in /Users/1zuu/miniforge3/envs/llamaindex/lib/python3.9/site-packages (from anyio<4,>=3.5.0->openai) (1.2.0)\n",
      "Requirement already satisfied: certifi in /Users/1zuu/miniforge3/envs/llamaindex/lib/python3.9/site-packages (from httpx<1,>=0.23.0->openai) (2023.11.17)\n",
      "Requirement already satisfied: httpcore in /Users/1zuu/miniforge3/envs/llamaindex/lib/python3.9/site-packages (from httpx<1,>=0.23.0->openai) (1.0.2)\n",
      "Requirement already satisfied: annotated-types>=0.4.0 in /Users/1zuu/miniforge3/envs/llamaindex/lib/python3.9/site-packages (from pydantic<3,>=1.9.0->openai) (0.6.0)\n",
      "Requirement already satisfied: pydantic-core==2.14.5 in /Users/1zuu/miniforge3/envs/llamaindex/lib/python3.9/site-packages (from pydantic<3,>=1.9.0->openai) (2.14.5)\n",
      "Requirement already satisfied: h11<0.15,>=0.13 in /Users/1zuu/miniforge3/envs/llamaindex/lib/python3.9/site-packages (from httpcore->httpx<1,>=0.23.0->openai) (0.14.0)\n"
     ]
    }
   ],
   "source": [
    "!pip install openai pyyaml "
   ]
  },
  {
   "cell_type": "code",
   "execution_count": 2,
   "metadata": {},
   "outputs": [],
   "source": [
    "import os, yaml \n",
    "from openai import OpenAI, ChatCompletion"
   ]
  },
  {
   "cell_type": "code",
   "execution_count": 3,
   "metadata": {},
   "outputs": [],
   "source": [
    "with open('cadentials.yaml') as f:\n",
    "    cadentials = yaml.load(f, Loader=yaml.FullLoader)\n",
    "\n",
    "os.environ['OPENAI_API_KEY'] = cadentials['OPENAI_API_KEY']"
   ]
  },
  {
   "cell_type": "code",
   "execution_count": 4,
   "metadata": {},
   "outputs": [],
   "source": [
    "client = OpenAI()"
   ]
  },
  {
   "cell_type": "code",
   "execution_count": 14,
   "metadata": {},
   "outputs": [],
   "source": [
    "def complete_model(USER_MESSAGE):\n",
    "    response = client.chat.completions.create(\n",
    "                                            model = 'gpt-3.5-turbo',\n",
    "                                            messages = [\n",
    "                                                        {\"role\": \"system\", \"content\" : \"You are a helpful assitant.\"},\n",
    "                                                        {\"role\": \"user\", \"content\": USER_MESSAGE}              \n",
    "                                                        ],\n",
    "                                            temperature=0,\n",
    "                                            max_tokens=500\n",
    "                                            )\n",
    "    return str(response.choices[0].message.content)"
   ]
  },
  {
   "cell_type": "code",
   "execution_count": 15,
   "metadata": {},
   "outputs": [
    {
     "data": {
      "text/plain": [
       "\"As of my knowledge update in September 2021, the President of Sri Lanka is Gotabaya Rajapaksa. He assumed office on November 18, 2019. Please note that political positions can change, so it's always a good idea to verify with up-to-date sources.\""
      ]
     },
     "execution_count": 15,
     "metadata": {},
     "output_type": "execute_result"
    }
   ],
   "source": [
    "complete_model(\"who is the president of sri lanka ?\")"
   ]
  },
  {
   "cell_type": "markdown",
   "metadata": {},
   "source": [
    "#### 1. Sentiment Analysis"
   ]
  },
  {
   "cell_type": "code",
   "execution_count": 28,
   "metadata": {},
   "outputs": [
    {
     "data": {
      "text/plain": [
       "'Negative'"
      ]
     },
     "execution_count": 28,
     "metadata": {},
     "output_type": "execute_result"
    }
   ],
   "source": [
    "prompt = \"\"\"\n",
    "Classify the following CONTEXT as either positive, negative or neutral.\n",
    "CONTEXT : I am so sad because of I'm learning LLM\n",
    "SENTIMENT :\n",
    "\"\"\"\n",
    "complete_model(prompt)"
   ]
  },
  {
   "cell_type": "markdown",
   "metadata": {},
   "source": [
    "#### 2. Machine Translation"
   ]
  },
  {
   "cell_type": "code",
   "execution_count": 20,
   "metadata": {},
   "outputs": [
    {
     "data": {
      "text/plain": [
       "'Estoy muy triste porque estoy aprendiendo LLM.'"
      ]
     },
     "execution_count": 20,
     "metadata": {},
     "output_type": "execute_result"
    }
   ],
   "source": [
    "prompt = \"\"\"\n",
    "Convert the following CONTEXT into spanish language \n",
    "ENGLISH CONTEXT : I am so sad because of I'm learning LLM\n",
    "SPANISH CONTEXT :\n",
    "\"\"\"\n",
    "complete_model(prompt)"
   ]
  },
  {
   "cell_type": "markdown",
   "metadata": {},
   "source": [
    "#### 3. Summarization"
   ]
  },
  {
   "cell_type": "code",
   "execution_count": 24,
   "metadata": {},
   "outputs": [
    {
     "data": {
      "text/plain": [
       "'Machine learning emerged from the pursuit of artificial intelligence, with early researchers exploring symbolic methods and neural networks. However, a shift towards logical and knowledge-based approaches led to a divide between AI and machine learning. In the 1990s, machine learning redefined itself as a separate field, focusing on practical problem-solving using statistical, fuzzy logic, and probability-based methods.'"
      ]
     },
     "execution_count": 24,
     "metadata": {},
     "output_type": "execute_result"
    }
   ],
   "source": [
    "prompt = \"\"\"\n",
    "Summarize the below CONTEXT but using only 2 sentences.\n",
    "CONTEXT : As a scientific endeavor, machine learning grew out of the quest for artificial intelligence (AI). In the early days of AI as an academic discipline, some researchers were interested in having machines learn from data. They attempted to approach the problem with various symbolic methods, as well as what were then termed \"neural networks\"; these were mostly perceptrons and other models that were later found to be reinventions of the generalized linear models of statistics.[23] Probabilistic reasoning was also employed, especially in automated medical diagnosis.[24]: 488 \n",
    "\n",
    "However, an increasing emphasis on the logical, knowledge-based approach caused a rift between AI and machine learning. Probabilistic systems were plagued by theoretical and practical problems of data acquisition and representation.[24]: 488  By 1980, expert systems had come to dominate AI, and statistics was out of favor.[25] Work on symbolic/knowledge-based learning did continue within AI, leading to inductive logic programming, but the more statistical line of research was now outside the field of AI proper, in pattern recognition and information retrieval.[24]: 708–710, 755  Neural networks research had been abandoned by AI and computer science around the same time. This line, too, was continued outside the AI/CS field, as \"connectionism\", by researchers from other disciplines including Hopfield, Rumelhart, and Hinton. Their main success came in the mid-1980s with the reinvention of backpropagation.[24]: 25 \n",
    "\n",
    "Machine learning (ML), reorganized and recognized as its own field, started to flourish in the 1990s. The field changed its goal from achieving artificial intelligence to tackling solvable problems of a practical nature. It shifted focus away from the symbolic approaches it had inherited from AI, and toward methods and models borrowed from statistics, fuzzy logic, and probability theory.[25]\n",
    "\n",
    "SUMMARY :\n",
    "\"\"\"\n",
    "complete_model(prompt)"
   ]
  },
  {
   "cell_type": "markdown",
   "metadata": {},
   "source": [
    "## Generative:\n",
    "- Nothing fancy but generate an answer based on the user query"
   ]
  },
  {
   "cell_type": "code",
   "execution_count": 30,
   "metadata": {},
   "outputs": [
    {
     "name": "stdout",
     "output_type": "stream",
     "text": [
      "As an AI, I don't have personal experiences or emotions, but I can provide you with information about history. \n",
      "\n",
      "The concept of artificial intelligence dates back to ancient times, with myths and legends featuring humanoid beings with artificial intelligence-like qualities. However, the modern development of AI began in the mid-20th century.\n",
      "\n",
      "In 1956, the field of AI was officially established at the Dartmouth Conference, where researchers gathered to explore the possibilities of creating machines that could simulate human intelligence. This marked the beginning of AI as a formal discipline.\n",
      "\n",
      "Throughout the following decades, AI research progressed, with various approaches and techniques being developed. In the 1960s and 1970s, researchers focused on symbolic AI, which involved using logic and rules to represent knowledge and solve problems.\n",
      "\n",
      "In the 1980s and 1990s, AI experienced a period of reduced interest and funding, known as the \"AI winter.\" However, advancements in computing power and the emergence of new techniques, such as neural networks, led to a resurgence of interest in AI in the late 1990s and early 2000s.\n",
      "\n",
      "In recent years, AI has made significant strides in various domains, including natural language processing, computer vision, robotics, and machine learning. Breakthroughs in deep learning, a subfield of machine learning, have enabled AI systems to achieve remarkable performance in tasks such as image recognition and language translation.\n",
      "\n",
      "Today, AI is being applied in numerous industries and sectors, including healthcare, finance, transportation, and entertainment. It continues to evolve rapidly, with ongoing research and development pushing the boundaries of what AI can achieve.\n",
      "\n",
      "Overall, the rich history of AI showcases the persistent human desire to create intelligent machines and the continuous advancements in technology that have made AI a reality in our modern world.\n"
     ]
    }
   ],
   "source": [
    "print(complete_model(\"What is it's rich history ?\"))"
   ]
  },
  {
   "cell_type": "code",
   "execution_count": null,
   "metadata": {},
   "outputs": [],
   "source": []
  }
 ],
 "metadata": {
  "kernelspec": {
   "display_name": "Python 3",
   "language": "python",
   "name": "python3"
  },
  "language_info": {
   "codemirror_mode": {
    "name": "ipython",
    "version": 3
   },
   "file_extension": ".py",
   "mimetype": "text/x-python",
   "name": "python",
   "nbconvert_exporter": "python",
   "pygments_lexer": "ipython3",
   "version": "3.9.18"
  }
 },
 "nbformat": 4,
 "nbformat_minor": 2
}
