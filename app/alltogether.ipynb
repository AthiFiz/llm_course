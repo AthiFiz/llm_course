{
 "cells": [
  {
   "cell_type": "code",
   "execution_count": 2,
   "metadata": {},
   "outputs": [],
   "source": [
    "import os, yaml\n",
    "from openai import OpenAI"
   ]
  },
  {
   "cell_type": "code",
   "execution_count": 3,
   "metadata": {},
   "outputs": [],
   "source": [
    "with open(\"credential.yaml\") as f:\n",
    "    credentials = yaml.load(f, Loader=yaml.FullLoader)\n",
    "\n",
    "os.environ[\"OPENAI_API_KEY\"] = credentials[\"OPENAI_API_KEY\"]"
   ]
  },
  {
   "cell_type": "code",
   "execution_count": 4,
   "metadata": {},
   "outputs": [],
   "source": [
    "client = OpenAI()"
   ]
  },
  {
   "cell_type": "code",
   "execution_count": 5,
   "metadata": {},
   "outputs": [],
   "source": [
    "def complete_model(BOT_ROLE, USER_MESSAGE):\n",
    "    response = client.chat.completions.create(\n",
    "        model=\"gpt-3.5-turbo\",\n",
    "        messages=[\n",
    "            {\"role\":\"system\", \"content\":BOT_ROLE},\n",
    "            {\"role\": \"user\", \"content\": USER_MESSAGE}],\n",
    "        temperature=0,\n",
    "        max_tokens=500\n",
    "    )\n",
    "    return str(response.choices[0].message.content)"
   ]
  },
  {
   "cell_type": "code",
   "execution_count": 8,
   "metadata": {},
   "outputs": [],
   "source": [
    "article = '''\n",
    "            Coinbase, the second-largest crypto exchange by trading volume, released its Q4 2022 earnings on Tuesday, \n",
    "            giving shareholders and market players alike an updated look into its financials. In response to the report, \n",
    "            the company's shares are down modestly in early after-hours trading.In the fourth quarter of 2022, Coinbase \n",
    "            generated $605 million in total revenue, down sharply from $2.49 billion in the year-ago quarter. Coinbase's \n",
    "            top line was not enough to cover its expenses: The company lost $557 million in the three-month period on a \n",
    "            GAAP basis (net income) worth -$2.46 per share, and an adjusted EBITDA deficit of $124 million.Wall Street \n",
    "            expected Coinbase to report $581.2 million in revenue and earnings per share of -$2.44 with adjusted EBITDA \n",
    "            of -$201.8 million driven by 8.4 million monthly transaction users (MTUs), according to data provided by \n",
    "            Yahoo Finance.Before its Q4 earnings were released, Coinbase's stock had risen 86% year-to-date. Even with that rally, \n",
    "            the value of Coinbase when measured on a per-share basis is still down significantly from its 52-week high of $206.79.\n",
    "            That Coinbase beat revenue expectations is notable in that it came with declines in trading volume; Coinbase historically \n",
    "            generated the bulk of its revenues from trading fees, making Q4 2022 notable. Consumer trading volumes fell from $26 \n",
    "            billion in the third quarter of last year to $20 billion in Q4, while institutional volumes across the same timeframe \n",
    "            fell from $133 billion to $125 billion.The overall crypto market capitalization fell about 64%, or $1.5 trillion during 2022,\n",
    "            which resulted in Coinbase's total trading volumes and transaction revenues to fall 50% and 66% year-over-year, respectively, \n",
    "            the company reported.As you would expect with declines in trading volume, trading revenue at Coinbase fell in Q4 compared \n",
    "            to the third quarter of last year, dipping from $365.9 million to $322.1 million. '''"
   ]
  },
  {
   "cell_type": "code",
   "execution_count": null,
   "metadata": {},
   "outputs": [],
   "source": [
    "BOT_ROLE = \"You are a helpful tool for fact extraction\"\n",
    "USER_MESSAGE = f\"Extract the key facts out of this text. Don't include opinions. Give each fact a number and keep them short sentences:\\n\\n {article}\"\n",
    "\n",
    "\n",
    "response = complete_model(BOT_ROLE, USER_MESSAGE)\n",
    "print(response)"
   ]
  },
  {
   "cell_type": "code",
   "execution_count": null,
   "metadata": {},
   "outputs": [],
   "source": []
  },
  {
   "cell_type": "code",
   "execution_count": null,
   "metadata": {},
   "outputs": [],
   "source": []
  }
 ],
 "metadata": {
  "kernelspec": {
   "display_name": "Python 3",
   "language": "python",
   "name": "python3"
  },
  "language_info": {
   "codemirror_mode": {
    "name": "ipython",
    "version": 3
   },
   "file_extension": ".py",
   "mimetype": "text/x-python",
   "name": "python",
   "nbconvert_exporter": "python",
   "pygments_lexer": "ipython3",
   "version": "3.9.18"
  }
 },
 "nbformat": 4,
 "nbformat_minor": 2
}
