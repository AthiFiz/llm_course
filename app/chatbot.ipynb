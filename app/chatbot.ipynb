{
 "cells": [
  {
   "cell_type": "code",
   "execution_count": 1,
   "metadata": {},
   "outputs": [],
   "source": [
    "import os, yaml\n",
    "from openai import OpenAI"
   ]
  },
  {
   "cell_type": "code",
   "execution_count": 2,
   "metadata": {},
   "outputs": [],
   "source": [
    "with open(\"credential.yaml\") as f:\n",
    "    credentials = yaml.load(f, Loader=yaml.FullLoader)\n",
    "\n",
    "os.environ[\"OPENAI_API_KEY\"] = credentials[\"OPENAI_API_KEY\"]"
   ]
  },
  {
   "cell_type": "code",
   "execution_count": 3,
   "metadata": {},
   "outputs": [],
   "source": [
    "client = OpenAI()"
   ]
  },
  {
   "cell_type": "code",
   "execution_count": 4,
   "metadata": {},
   "outputs": [],
   "source": [
    "def chat_model(USER_MESSAGE,\n",
    "               CHAT_HISTORY=None):\n",
    "    \n",
    "    if CHAT_HISTORY is None:\n",
    "        CHAT_HISTORY = [\n",
    "            {\"role\": \"system\", \"content\":\"You are a assistant who is capable of classifying provided context into positive, negative or neitral\"},\n",
    "            {\"role\": \"user\", \"content\":USER_MESSAGE}\n",
    "        ]\n",
    "    else:\n",
    "        CHAT_HISTORY.append(\n",
    "            {\"role\": \"user\",\n",
    "             \"content\": USER_MESSAGE}\n",
    "        )\n",
    "    \n",
    "    response = client.chat.completions.create(\n",
    "        model=\"gpt-3.5-turbo\",\n",
    "        messages=CHAT_HISTORY,\n",
    "        temperature=0.5,\n",
    "        max_tokens=500\n",
    "    )\n",
    "\n",
    "    response = str(response.choices[0].message.content)\n",
    "\n",
    "    CHAT_HISTORY.append(\n",
    "        {\"role\": \"system\",\n",
    "         \"content\": response}\n",
    "    )\n",
    "\n",
    "    return response, CHAT_HISTORY"
   ]
  },
  {
   "cell_type": "code",
   "execution_count": 8,
   "metadata": {},
   "outputs": [],
   "source": [
    "prompt = '''\n",
    "I am so sad since i am learning llm\n",
    "'''\n",
    "\n",
    "response, chat_history = chat_model(prompt)"
   ]
  },
  {
   "cell_type": "code",
   "execution_count": 9,
   "metadata": {},
   "outputs": [
    {
     "data": {
      "text/plain": [
       "'The provided context \"I am so sad since I am learning llm\" can be classified as negative.'"
      ]
     },
     "execution_count": 9,
     "metadata": {},
     "output_type": "execute_result"
    }
   ],
   "source": [
    "response"
   ]
  },
  {
   "cell_type": "code",
   "execution_count": 10,
   "metadata": {},
   "outputs": [
    {
     "data": {
      "text/plain": [
       "[{'role': 'system',\n",
       "  'content': 'You are a assistant who is capable of classifying provided context into positive, negative or neitral'},\n",
       " {'role': 'user', 'content': '\\nI am so sad since i am learning llm\\n'},\n",
       " {'role': 'system',\n",
       "  'content': 'The provided context \"I am so sad since I am learning llm\" can be classified as negative.'}]"
      ]
     },
     "execution_count": 10,
     "metadata": {},
     "output_type": "execute_result"
    }
   ],
   "source": [
    "chat_history"
   ]
  },
  {
   "cell_type": "code",
   "execution_count": 11,
   "metadata": {},
   "outputs": [],
   "source": [
    "response, chat_history = chat_model(\"why did you classify that as negative\", chat_history)"
   ]
  },
  {
   "cell_type": "code",
   "execution_count": 12,
   "metadata": {},
   "outputs": [
    {
     "data": {
      "text/plain": [
       "'I classified it as negative because the word \"sad\" indicates a negative emotion. Additionally, the context suggests that learning llm is causing the sadness.'"
      ]
     },
     "execution_count": 12,
     "metadata": {},
     "output_type": "execute_result"
    }
   ],
   "source": [
    "response"
   ]
  },
  {
   "cell_type": "code",
   "execution_count": 13,
   "metadata": {},
   "outputs": [
    {
     "data": {
      "text/plain": [
       "[{'role': 'system',\n",
       "  'content': 'You are a assistant who is capable of classifying provided context into positive, negative or neitral'},\n",
       " {'role': 'user', 'content': '\\nI am so sad since i am learning llm\\n'},\n",
       " {'role': 'system',\n",
       "  'content': 'The provided context \"I am so sad since I am learning llm\" can be classified as negative.'},\n",
       " {'role': 'user', 'content': 'why did you classify that as negative'},\n",
       " {'role': 'system',\n",
       "  'content': 'I classified it as negative because the word \"sad\" indicates a negative emotion. Additionally, the context suggests that learning llm is causing the sadness.'}]"
      ]
     },
     "execution_count": 13,
     "metadata": {},
     "output_type": "execute_result"
    }
   ],
   "source": [
    "chat_history"
   ]
  }
 ],
 "metadata": {
  "kernelspec": {
   "display_name": "Python 3",
   "language": "python",
   "name": "python3"
  },
  "language_info": {
   "codemirror_mode": {
    "name": "ipython",
    "version": 3
   },
   "file_extension": ".py",
   "mimetype": "text/x-python",
   "name": "python",
   "nbconvert_exporter": "python",
   "pygments_lexer": "ipython3",
   "version": "3.9.18"
  }
 },
 "nbformat": 4,
 "nbformat_minor": 2
}
