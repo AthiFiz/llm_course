{
 "cells": [
  {
   "cell_type": "code",
   "execution_count": 10,
   "metadata": {},
   "outputs": [],
   "source": [
    "article = '''\n",
    "            Coinbase, the second-largest crypto exchange by trading volume, released its Q4 2022 earnings on Tuesday, \n",
    "            giving shareholders and market players alike an updated look into its financials. In response to the report, \n",
    "            the company's shares are down modestly in early after-hours trading.In the fourth quarter of 2022, Coinbase \n",
    "            generated $605 million in total revenue, down sharply from $2.49 billion in the year-ago quarter. Coinbase's \n",
    "            top line was not enough to cover its expenses: The company lost $557 million in the three-month period on a \n",
    "            GAAP basis (net income) worth -$2.46 per share, and an adjusted EBITDA deficit of $124 million.Wall Street \n",
    "            expected Coinbase to report $581.2 million in revenue and earnings per share of -$2.44 with adjusted EBITDA \n",
    "            of -$201.8 million driven by 8.4 million monthly transaction users (MTUs), according to data provided by \n",
    "            Yahoo Finance.Before its Q4 earnings were released, Coinbase's stock had risen 86% year-to-date. Even with that rally, \n",
    "            the value of Coinbase when measured on a per-share basis is still down significantly from its 52-week high of $206.79.\n",
    "            That Coinbase beat revenue expectations is notable in that it came with declines in trading volume; Coinbase historically \n",
    "            generated the bulk of its revenues from trading fees, making Q4 2022 notable. Consumer trading volumes fell from $26 \n",
    "            billion in the third quarter of last year to $20 billion in Q4, while institutional volumes across the same timeframe \n",
    "            fell from $133 billion to $125 billion.The overall crypto market capitalization fell about 64%, or $1.5 trillion during 2022,\n",
    "            which resulted in Coinbase's total trading volumes and transaction revenues to fall 50% and 66% year-over-year, respectively, \n",
    "            the company reported.As you would expect with declines in trading volume, trading revenue at Coinbase fell in Q4 compared \n",
    "            to the third quarter of last year, dipping from $365.9 million to $322.1 million. '''"
   ]
  },
  {
   "cell_type": "code",
   "execution_count": 15,
   "metadata": {},
   "outputs": [],
   "source": [
    "import os, yaml\n",
    "from langchain.chat_models import ChatOpenAI\n",
    "from langchain.prompts import PromptTemplate\n",
    "from langchain.chains import LLMChain, SimpleSequentialChain"
   ]
  },
  {
   "cell_type": "code",
   "execution_count": 16,
   "metadata": {},
   "outputs": [],
   "source": [
    "with open(\"credential.yaml\") as f:\n",
    "    credentials = yaml.load(f, Loader=yaml.FullLoader)\n",
    "\n",
    "os.environ[\"OPENAI_API_KEY\"] = credentials[\"OPENAI_API_KEY\"]"
   ]
  },
  {
   "cell_type": "code",
   "execution_count": 17,
   "metadata": {},
   "outputs": [],
   "source": [
    "client = ChatOpenAI(\n",
    "                openai_api_key=os.environ[\"OPENAI_API_KEY\"],\n",
    "                model=\"gpt-3.5-turbo\",\n",
    "                temperature=0,\n",
    "                max_tokens=500)"
   ]
  },
  {
   "cell_type": "code",
   "execution_count": 18,
   "metadata": {},
   "outputs": [],
   "source": [
    "USER_MESSAGE = \"Extract key facts from the text. Don't include opinion. give the facts in short sentences and number the facts. the text is follows:\\n\\n{text_input}\"\n",
    "\n",
    "fact_extraction_prompt = PromptTemplate(\n",
    "                                    input_variables=[\"text_input\"],\n",
    "                                    template=USER_MESSAGE)\n",
    "\n",
    "fact_extraction_chain = LLMChain(\n",
    "                            llm=client,\n",
    "                            prompt=fact_extraction_prompt)"
   ]
  },
  {
   "cell_type": "code",
   "execution_count": 19,
   "metadata": {},
   "outputs": [],
   "source": [
    "facts = fact_extraction_chain.run(article)"
   ]
  },
  {
   "cell_type": "code",
   "execution_count": 20,
   "metadata": {},
   "outputs": [
    {
     "name": "stdout",
     "output_type": "stream",
     "text": [
      "1. Coinbase generated $605 million in total revenue in Q4 2022, down from $2.49 billion in the previous year.\n",
      "2. The company reported a net loss of $557 million in the same period.\n",
      "3. Wall Street expected Coinbase to report $581.2 million in revenue and a loss per share of -$2.44.\n",
      "4. Coinbase's stock had risen 86% year-to-date before the earnings release.\n",
      "5. Consumer trading volumes fell from $26 billion to $20 billion in Q4, while institutional volumes fell from $133 billion to $125 billion.\n",
      "6. The overall crypto market capitalization fell by 64% in 2022, resulting in a 50% decline in Coinbase's trading volumes.\n",
      "7. Trading revenue at Coinbase fell from $365.9 million to $322.1 million in Q4.\n"
     ]
    }
   ],
   "source": [
    "print(facts)"
   ]
  },
  {
   "cell_type": "code",
   "execution_count": 21,
   "metadata": {},
   "outputs": [
    {
     "name": "stdout",
     "output_type": "stream",
     "text": [
      "Investors should take note of Coinbase's Q4 2022 financial results. While the company generated $605 million in total revenue during this period, it experienced a significant decline from the previous year's $2.49 billion. Additionally, Coinbase reported a net loss of $557 million. Despite these figures, it is worth mentioning that Wall Street had expected revenue of $581.2 million and a loss per share of -$2.44, indicating that Coinbase's performance was not far off from expectations. Prior to the earnings release, the company's stock had risen 86% year-to-date, showcasing investor confidence. However, it is important to consider that consumer trading volumes fell from $26 billion to $20 billion in Q4, while institutional volumes fell from $133 billion to $125 billion. This decline can be attributed to the overall crypto market capitalization falling by 64% in 2022, resulting in a 50% decrease in Coinbase's trading volumes. Furthermore, trading revenue at Coinbase also experienced a decline from $365.9 million to $322.1 million in Q4. These figures highlight the challenges faced by Coinbase in a volatile market, but also demonstrate its ability to remain relatively resilient in the face of adversity.\n"
     ]
    }
   ],
   "source": [
    "USER_MESSAGE = \"Take the following points and write a short paragraph for investors. Don't leave out key informations.\\n\\n{text_input}\"\n",
    "\n",
    "fact_summarization_promt = PromptTemplate(\n",
    "                                input_variables=[\"text_input\"],\n",
    "                                template=USER_MESSAGE\n",
    ")\n",
    "\n",
    "fact_summarization_chain = LLMChain(\n",
    "                                llm=client,\n",
    "                                prompt=fact_summarization_promt\n",
    ")\n",
    "\n",
    "summary = fact_summarization_chain.run(facts)\n",
    "print(summary)"
   ]
  },
  {
   "cell_type": "code",
   "execution_count": 22,
   "metadata": {},
   "outputs": [
    {
     "name": "stdout",
     "output_type": "stream",
     "text": [
      "முதலில், முதலாம் பரிந்துரைக்கப்படும் பொருள் அதிகப்படியாக காவல்துறையின் Q4 2022 நிதி முடிவுகளை முடிவுக்கு எடுத்துக்கொள்ள வேண்டும். இந்த காலத்தில் நிதி மொத்த வருமானம் 605 மில்லியன் டாலர் ஆகும், ஆனால் முந்தைய ஆண்டின் 2.49 பில்லியன் டாலர் முதலியன மிகுந்த இழப்புகளை அடைந்துள்ளது. இதுவரை காவல்துறையின் நிதி இழப்பு 557 மில்லியன் டாலர் ஆகும். இவ்வாறு எண்ணிக்கைகளைப் பார்க்கும்போது, வால் ஸ்ட்ரீட்\n"
     ]
    }
   ],
   "source": [
    "USER_MESSAGE = \"Translate the following context to tamil language. \\n\\n {text_input}\"\n",
    "\n",
    "translation_prompt = PromptTemplate(\n",
    "                            input_variables=[\"tex_input\"],\n",
    "                            template=USER_MESSAGE\n",
    ")\n",
    "\n",
    "translation_chain = LLMChain(\n",
    "                        llm=client,\n",
    "                        prompt=translation_prompt\n",
    ")\n",
    "\n",
    "translation = translation_chain.run(summary)\n",
    "print(translation)"
   ]
  },
  {
   "cell_type": "code",
   "execution_count": 23,
   "metadata": {},
   "outputs": [
    {
     "name": "stdout",
     "output_type": "stream",
     "text": [
      "முதலில், முதலாம் காப்பரைன் காலாவதியில் கடந்த ஆண்டின் $2.49 பிலியன் ஆகும் முதல் ஆண்டின் முழு வருமானத்தில் மிகுந்த இழப்பு அடைந்தது என்று காண்பது முக்கியம். இதுவரை காப்பரைன் $605 மில்லியன் வருமானம் உருவாக்கியுள்ளது. இதன் அல்லதுப் பின்னர், காப்பரைன் $557 மில்லியன் நிகரான இழப்பைப் புகழ்ந்துள்ளது. இவ்வாறு எண்ணிக்கைகளைப் பார்க்கும்போது, வால் ஸ்ட்ரீட் முதலியனால் $581.2 மில்லியன் வருமானம் மற்றும் -$\n"
     ]
    }
   ],
   "source": [
    "full_chain = SimpleSequentialChain(\n",
    "                            chains=[\n",
    "                                fact_extraction_chain,\n",
    "                                fact_summarization_chain,\n",
    "                                translation_chain\n",
    "                            ]\n",
    ")\n",
    "\n",
    "response = full_chain.run(article)\n",
    "print(response)"
   ]
  },
  {
   "cell_type": "code",
   "execution_count": null,
   "metadata": {},
   "outputs": [],
   "source": []
  }
 ],
 "metadata": {
  "kernelspec": {
   "display_name": "Python 3",
   "language": "python",
   "name": "python3"
  },
  "language_info": {
   "codemirror_mode": {
    "name": "ipython",
    "version": 3
   },
   "file_extension": ".py",
   "mimetype": "text/x-python",
   "name": "python",
   "nbconvert_exporter": "python",
   "pygments_lexer": "ipython3",
   "version": "3.9.18"
  }
 },
 "nbformat": 4,
 "nbformat_minor": 2
}
