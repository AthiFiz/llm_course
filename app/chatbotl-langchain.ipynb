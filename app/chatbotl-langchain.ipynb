{
 "cells": [
  {
   "cell_type": "code",
   "execution_count": 1,
   "metadata": {},
   "outputs": [],
   "source": [
    "article = '''\n",
    "            Coinbase, the second-largest crypto exchange by trading volume, released its Q4 2022 earnings on Tuesday, \n",
    "            giving shareholders and market players alike an updated look into its financials. In response to the report, \n",
    "            the company's shares are down modestly in early after-hours trading.In the fourth quarter of 2022, Coinbase \n",
    "            generated $605 million in total revenue, down sharply from $2.49 billion in the year-ago quarter. Coinbase's \n",
    "            top line was not enough to cover its expenses: The company lost $557 million in the three-month period on a \n",
    "            GAAP basis (net income) worth -$2.46 per share, and an adjusted EBITDA deficit of $124 million.Wall Street \n",
    "            expected Coinbase to report $581.2 million in revenue and earnings per share of -$2.44 with adjusted EBITDA \n",
    "            of -$201.8 million driven by 8.4 million monthly transaction users (MTUs), according to data provided by \n",
    "            Yahoo Finance.Before its Q4 earnings were released, Coinbase's stock had risen 86% year-to-date. Even with that rally, \n",
    "            the value of Coinbase when measured on a per-share basis is still down significantly from its 52-week high of $206.79.\n",
    "            That Coinbase beat revenue expectations is notable in that it came with declines in trading volume; Coinbase historically \n",
    "            generated the bulk of its revenues from trading fees, making Q4 2022 notable. Consumer trading volumes fell from $26 \n",
    "            billion in the third quarter of last year to $20 billion in Q4, while institutional volumes across the same timeframe \n",
    "            fell from $133 billion to $125 billion.The overall crypto market capitalization fell about 64%, or $1.5 trillion during 2022,\n",
    "            which resulted in Coinbase's total trading volumes and transaction revenues to fall 50% and 66% year-over-year, respectively, \n",
    "            the company reported.As you would expect with declines in trading volume, trading revenue at Coinbase fell in Q4 compared \n",
    "            to the third quarter of last year, dipping from $365.9 million to $322.1 million. '''"
   ]
  },
  {
   "cell_type": "code",
   "execution_count": 1,
   "metadata": {},
   "outputs": [],
   "source": [
    "import tiktoken\n",
    "import os, yaml, langchain\n",
    "from langchain.chains import ConversationChain\n",
    "from langchain.prompts import PromptTemplate\n",
    "from langchain.chat_models import ChatOpenAI\n",
    "from langchain.chains.conversation.memory import ConversationBufferMemory, \\\n",
    "                                                 ConversationSummaryMemory, \\\n",
    "                                                 ConversationBufferWindowMemory, \\\n",
    "                                                 ConversationSummaryBufferMemory, \\\n",
    "                                                 ConversationKGMemory"
   ]
  },
  {
   "cell_type": "code",
   "execution_count": 2,
   "metadata": {},
   "outputs": [],
   "source": [
    "with open(\"credential.yaml\") as f:\n",
    "    credentials = yaml.load(f, Loader=yaml.FullLoader)\n",
    "\n",
    "os.environ[\"OPENAI_API_KEY\"] = credentials[\"OPENAI_API_KEY\"]\n",
    "enc = tiktoken.get_encoding(\"cl100k_base\")"
   ]
  },
  {
   "cell_type": "code",
   "execution_count": 3,
   "metadata": {},
   "outputs": [],
   "source": [
    "client = ChatOpenAI(\n",
    "            openai_api_key=os.environ[\"OPENAI_API_KEY\"],\n",
    "            model=\"gpt-3.5-turbo\",\n",
    "            temperature=0,\n",
    "            max_tokens=500\n",
    ")"
   ]
  },
  {
   "cell_type": "code",
   "execution_count": 16,
   "metadata": {},
   "outputs": [],
   "source": [
    "memory = ConversationBufferMemory()\n",
    "\n",
    "conversation = ConversationChain(\n",
    "                            llm=client,\n",
    "                            memory=memory,\n",
    "                            verbose=False\n",
    ")"
   ]
  },
  {
   "cell_type": "code",
   "execution_count": 12,
   "metadata": {},
   "outputs": [
    {
     "name": "stdout",
     "output_type": "stream",
     "text": [
      "The following is a friendly conversation between a human and an AI. The AI is talkative and provides lots of specific details from its context. If the AI does not know the answer to a question, it truthfully says it does not know.\n",
      "\n",
      "Current conversation:\n",
      "{history}\n",
      "Human: {input}\n",
      "AI:\n"
     ]
    }
   ],
   "source": [
    "template = conversation.prompt.template\n",
    "print(template)"
   ]
  },
  {
   "cell_type": "code",
   "execution_count": 13,
   "metadata": {},
   "outputs": [
    {
     "name": "stdout",
     "output_type": "stream",
     "text": [
      "\n"
     ]
    }
   ],
   "source": [
    "buffer = conversation.memory.buffer\n",
    "print(buffer)"
   ]
  },
  {
   "cell_type": "code",
   "execution_count": 14,
   "metadata": {},
   "outputs": [],
   "source": [
    "query = \"Do you know about Antartica\""
   ]
  },
  {
   "cell_type": "code",
   "execution_count": 15,
   "metadata": {},
   "outputs": [
    {
     "data": {
      "text/plain": [
       "'Yes, I know about Antarctica! It is the southernmost continent on Earth and is located almost entirely within the Antarctic Circle. It is the fifth-largest continent, covering an area of about 14 million square kilometers. Antarctica is known for its extreme cold temperatures, with the lowest recorded temperature being -89.2 degrees Celsius (-128.6 degrees Fahrenheit). It is also the driest continent, receiving very little precipitation, and is home to the South Pole, which is the southernmost point on Earth. Antarctica is mainly covered by ice, with ice sheets and glaciers accounting for about 98% of its landmass. It is a unique and fragile ecosystem, hosting various species of penguins, seals, whales, and seabirds. The continent is governed by the Antarctic Treaty System, which prohibits military activity, mineral mining, and nuclear testing, and promotes scientific research and environmental protection.'"
      ]
     },
     "execution_count": 15,
     "metadata": {},
     "output_type": "execute_result"
    }
   ],
   "source": [
    "conversation.predict(input=query)"
   ]
  },
  {
   "cell_type": "code",
   "execution_count": 9,
   "metadata": {},
   "outputs": [
    {
     "name": "stdout",
     "output_type": "stream",
     "text": [
      "Human: Do you know about Antartica\n",
      "AI: Yes, I know about Antarctica! It is the southernmost continent on Earth and is located almost entirely within the Antarctic Circle. It is the fifth-largest continent, covering an area of about 14 million square kilometers. Antarctica is known for its extreme cold temperatures, with the lowest recorded temperature being -89.2 degrees Celsius (-128.6 degrees Fahrenheit). It is also the driest continent, receiving very little precipitation, and is home to the South Pole. The continent is mainly covered by ice, with the Antarctic ice sheet being the largest single mass of ice on Earth. Antarctica is governed by the Antarctic Treaty System, which prohibits military activity, mineral mining, and nuclear testing, and promotes scientific research and environmental protection.\n"
     ]
    }
   ],
   "source": [
    "buffer = conversation.memory.buffer\n",
    "print(buffer)"
   ]
  },
  {
   "cell_type": "code",
   "execution_count": 17,
   "metadata": {},
   "outputs": [
    {
     "name": "stdout",
     "output_type": "stream",
     "text": [
      "####################################################################################################\n",
      "########################################### ITERARION : 1 ##########################################\n",
      "The following is a friendly conversation between a human and an AI. The AI is talkative and provides lots of specific details from its context. If the AI does not know the answer to a question, it truthfully says it does not know.\n",
      "\n",
      "Current conversation:\n",
      "\n",
      "Human: Hi\n",
      "AI:\n",
      "\n",
      "\n",
      "TOKENS : 58\n",
      "\n",
      "\n",
      "RESPONSE: Hello! How can I assist you today?\n",
      "\n",
      "####################################################################################################\n",
      "########################################### ITERARION : 2 ##########################################\n",
      "The following is a friendly conversation between a human and an AI. The AI is talkative and provides lots of specific details from its context. If the AI does not know the answer to a question, it truthfully says it does not know.\n",
      "\n",
      "Current conversation:\n",
      "Human: Hi\n",
      "AI: Hello! How can I assist you today?\n",
      "Human: tell me about antartica\n",
      "AI:\n",
      "\n",
      "\n",
      "TOKENS : 78\n",
      "\n",
      "\n",
      "RESPONSE: Antarctica is the southernmost continent on Earth, located almost entirely within the Antarctic Circle. It is the fifth-largest continent, covering an area of about 14 million square kilometers. Antarctica is known for its extreme cold temperatures, with the lowest recorded temperature being -89.2 degrees Celsius (-128.6 degrees Fahrenheit). The continent is mostly covered by ice, with an average thickness of about 1.9 kilometers (1.2 miles). It is home to the South Pole, which is the southernmost point on Earth. Antarctica is also known for its unique wildlife, including penguins, seals, and various bird species. The continent is governed by the Antarctic Treaty System, which prohibits military activity, mineral mining, and nuclear testing, among other things.\n",
      "\n",
      "####################################################################################################\n",
      "########################################### ITERARION : 3 ##########################################\n",
      "The following is a friendly conversation between a human and an AI. The AI is talkative and provides lots of specific details from its context. If the AI does not know the answer to a question, it truthfully says it does not know.\n",
      "\n",
      "Current conversation:\n",
      "Human: Hi\n",
      "AI: Hello! How can I assist you today?\n",
      "Human: tell me about antartica\n",
      "AI: Antarctica is the southernmost continent on Earth, located almost entirely within the Antarctic Circle. It is the fifth-largest continent, covering an area of about 14 million square kilometers. Antarctica is known for its extreme cold temperatures, with the lowest recorded temperature being -89.2 degrees Celsius (-128.6 degrees Fahrenheit). The continent is mostly covered by ice, with an average thickness of about 1.9 kilometers (1.2 miles). It is home to the South Pole, which is the southernmost point on Earth. Antarctica is also known for its unique wildlife, including penguins, seals, and various bird species. The continent is governed by the Antarctic Treaty System, which prohibits military activity, mineral mining, and nuclear testing, among other things.\n",
      "Human: about its hydrology\n",
      "AI:\n",
      "\n",
      "\n",
      "TOKENS : 238\n",
      "\n",
      "\n",
      "RESPONSE: Antarctica has a unique hydrology due to its extreme cold temperatures and the presence of ice. The continent is covered by a massive ice sheet, known as the Antarctic Ice Sheet, which contains about 90% of the world's ice and 70% of its freshwater. This ice sheet is formed by the accumulation of snowfall over thousands of years.\n",
      "\n",
      "Antarctica also has numerous glaciers, which are large bodies of ice that flow slowly under their own weight. These glaciers can be found in various parts of the continent and play a crucial role in shaping the landscape.\n",
      "\n",
      "In addition to glaciers, Antarctica has several ice shelves, which are floating extensions of the ice sheet that are connected to the land but float on the ocean. These ice shelves are formed when glaciers flow into the ocean and continue to accumulate ice.\n",
      "\n",
      "Antarctica is also home to numerous lakes, some of which are located beneath the ice sheet. These subglacial lakes are formed by the melting of ice from geothermal heat or from the pressure of the overlying ice. Some of these lakes, such as Lake Vostok, have been of particular interest to scientists due to their potential for harboring unique ecosystems and providing insights into the history of the continent.\n",
      "\n",
      "Overall, Antarctica's hydrology is heavily influenced by its icy environment, with ice sheets, glaciers, ice shelves, and subglacial lakes playing key roles in shaping the continent's water systems.\n",
      "\n"
     ]
    }
   ],
   "source": [
    "iteration=1\n",
    "\n",
    "while True:\n",
    "    query = input(\"Enter your query here: \")\n",
    "\n",
    "    if query == \"exit\":\n",
    "        break\n",
    "\n",
    "    else:\n",
    "        template = conversation.prompt.template\n",
    "        buffer = conversation.memory.buffer\n",
    "\n",
    "        print(\"#\"*100)\n",
    "        print(\"#\"*43, f\"ITERARION : {iteration}\", \"#\"*42)\n",
    "        print(template.format(history=buffer, input=query))\n",
    "        print(\"\\n\")\n",
    "        tokens = len(enc.encode(template.format(history=buffer, input=query)))\n",
    "        print(f\"TOKENS : {tokens}\")\n",
    "        print(\"\\n\")\n",
    "        response = conversation.run(query)\n",
    "        print(f\"RESPONSE: {response}\\n\")\n",
    "\n",
    "        iteration +=1"
   ]
  },
  {
   "cell_type": "code",
   "execution_count": 20,
   "metadata": {},
   "outputs": [
    {
     "data": {
      "text/plain": [
       "'The following is a friendly conversation between a human and an AI. The AI is talkative and provides lots of specific details from its context. If the AI does not know the answer to a question, it truthfully says it does not know.\\n\\nCurrent conversation:\\n{history}\\nHuman: {input}\\nAI:'"
      ]
     },
     "execution_count": 20,
     "metadata": {},
     "output_type": "execute_result"
    }
   ],
   "source": [
    "template"
   ]
  },
  {
   "cell_type": "code",
   "execution_count": null,
   "metadata": {},
   "outputs": [],
   "source": []
  }
 ],
 "metadata": {
  "kernelspec": {
   "display_name": "Python 3",
   "language": "python",
   "name": "python3"
  },
  "language_info": {
   "codemirror_mode": {
    "name": "ipython",
    "version": 3
   },
   "file_extension": ".py",
   "mimetype": "text/x-python",
   "name": "python",
   "nbconvert_exporter": "python",
   "pygments_lexer": "ipython3",
   "version": "3.9.18"
  }
 },
 "nbformat": 4,
 "nbformat_minor": 2
}
